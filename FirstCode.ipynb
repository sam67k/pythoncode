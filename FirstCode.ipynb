{
 "cells": [
  {
   "cell_type": "code",
   "execution_count": 8,
   "metadata": {},
   "outputs": [
    {
     "name": "stdout",
     "output_type": "stream",
     "text": [
      "welcome to progamming lab\n",
      "this is My First Lab\n",
      "100\n",
      "130.67\n",
      "9\n",
      "3+6\n"
     ]
    }
   ],
   "source": [
    "\n",
    "print(\"welcome to progamming lab\")\n",
    "print(\"this is My First Lab\")\n",
    "print(100)\n",
    "print(130.67)\n",
    "print(3+6)\n",
    "print(\"3+6\")"
   ]
  },
  {
   "cell_type": "code",
   "execution_count": 12,
   "metadata": {},
   "outputs": [
    {
     "name": "stdout",
     "output_type": "stream",
     "text": [
      "1 120 0\n"
     ]
    }
   ],
   "source": [
    "print(1,120,000)"
   ]
  },
  {
   "cell_type": "code",
   "execution_count": 21,
   "metadata": {},
   "outputs": [
    {
     "name": "stdout",
     "output_type": "stream",
     "text": [
      "<class 'float'>\n"
     ]
    }
   ],
   "source": [
    "print(type(3.0))"
   ]
  },
  {
   "cell_type": "code",
   "execution_count": 25,
   "metadata": {},
   "outputs": [
    {
     "name": "stdout",
     "output_type": "stream",
     "text": [
      "<class 'str'>\n"
     ]
    }
   ],
   "source": [
    "#comment \n",
    "print(type(\"sgjkhhjkhkjhkjfvhkjfhkjkjfghkjhkhkfgkhkhfgkhgkjkjhkjhjksghkasghkghkhkghkhkkjkjsdgh\"))"
   ]
  },
  {
   "cell_type": "code",
   "execution_count": 34,
   "metadata": {},
   "outputs": [
    {
     "name": "stdout",
     "output_type": "stream",
     "text": [
      "50\n"
     ]
    }
   ],
   "source": [
    "mark=50\n",
    "print(mark)"
   ]
  },
  {
   "cell_type": "code",
   "execution_count": 5,
   "metadata": {},
   "outputs": [
    {
     "name": "stdout",
     "output_type": "stream",
     "text": [
      "result =  13\n",
      "Subtraction >>  7\n",
      "Multiplication >>  30\n",
      "Division (Float) >> 3.3333333333333335\n",
      "Division (Integer) >> 3\n",
      "Division (Remainder) >> 1\n",
      "Exponentiation >> 1000\n"
     ]
    }
   ],
   "source": [
    "#Basic Mathematics Funtions Code\n",
    "num1 = 10\n",
    "num2 = 3\n",
    "result = num1 + num2\n",
    "print(\"result = \", result)\n",
    "result = num1 - num2\n",
    "print(\"Subtraction >> \", result)\n",
    "result = num1 * num2\n",
    "print(\"Multiplication >> \", result)\n",
    "result = num1 / num2\n",
    "print(\"Division (Float) >>\", result)\n",
    "result = num1 // num2\n",
    "print(\"Division (Integer) >>\", result)\n",
    "result = num1 % num2\n",
    "print(\"Division (Remainder) >>\", result)\n",
    "result = num1 ** num2\n",
    "print(\"Exponentiation >>\", result)"
   ]
  },
  {
   "cell_type": "code",
   "execution_count": 10,
   "metadata": {},
   "outputs": [
    {
     "name": "stdout",
     "output_type": "stream",
     "text": [
      "value of x =  10\n",
      "value of x =  11\n",
      "value of x =  12\n",
      "value of x =  22\n",
      "value of x =  -2\n",
      "y =  10\n",
      "y =  20\n",
      "y =  5.0\n"
     ]
    }
   ],
   "source": [
    "# Incrementstion Decrementaion Operators\n",
    "x = 10\n",
    "print(\"value of x = \", x)\n",
    "x = x + 1\n",
    "print(\"value of x = \", x)\n",
    "x += 1\n",
    "print(\"value of x = \", x)\n",
    "x += 10\n",
    "print(\"value of x = \", x)\n",
    "\n",
    "x = -2\n",
    "print(\"value of x = \", x)\n",
    "y = 10\n",
    "print(\"y = \",y)\n",
    "y *= 2\n",
    "print(\"y = \", y)\n",
    "y /= 4\n",
    "print(\"y = \", y)"
   ]
  },
  {
   "cell_type": "code",
   "execution_count": 13,
   "metadata": {},
   "outputs": [
    {
     "name": "stdout",
     "output_type": "stream",
     "text": [
      "Please Enter Your Good Name : Samama\n",
      "Please Enter Your City Name : Peshawar\n",
      "Hello Samama How Are You?\n",
      "How was the Weather of Peshawar\n"
     ]
    }
   ],
   "source": [
    "Name = input(\"Please Enter Your Good Name : \")\n",
    "City = input(\"Please Enter Your City Name : \")\n",
    "print(\"Hello\", Name , \"How Are You?\")\n",
    "print(\"How was the Weather of\", City)"
   ]
  },
  {
   "cell_type": "code",
   "execution_count": 2,
   "metadata": {},
   "outputs": [
    {
     "name": "stdout",
     "output_type": "stream",
     "text": [
      "aaa"
     ]
    }
   ],
   "source": [
    "print('a', end='')\n",
    "print('a', end='')\n",
    "print('a', end='')"
   ]
  },
  {
   "cell_type": "code",
   "execution_count": 3,
   "metadata": {},
   "outputs": [
    {
     "name": "stdout",
     "output_type": "stream",
     "text": [
      "10 15 20 25\n",
      "10152025\n",
      "10,15,20,25\n",
      "10:15:20:25\n",
      "10----15----20----25\n"
     ]
    }
   ],
   "source": [
    "w, x, y, z = 10, 15, 20, 25\n",
    "\n",
    "print(w, x, y, z)\n",
    "print(w, x, y, z, sep='')\n",
    "print(w, x, y, z, sep=',')\n",
    "print(w, x, y, z, sep=':')\n",
    "print(w, x, y, z, sep='----')"
   ]
  },
  {
   "cell_type": "code",
   "execution_count": 30,
   "metadata": {},
   "outputs": [
    {
     "name": "stdout",
     "output_type": "stream",
     "text": [
      "Enter Programming Marks :23\n",
      "Enter Maths Marks :34\n",
      "Enter Introduction to Compution Marks :45\n",
      ".........................\n",
      "=========================\n",
      "Subjects\tMarks\n",
      "=========================\n",
      "Programming:\t 23\n",
      "Maths      :\t 34\n",
      "IntroToCom :\t 45\n",
      "=========================\n",
      "Total      :\t 102\n",
      "=========================\n",
      "\n",
      "\n",
      "=========================\n",
      "Your Average Marks 34.0\n",
      "========================\n",
      "........................\n",
      "Thanks For Your Time\n"
     ]
    }
   ],
   "source": [
    "#First Formal Program\n",
    "p = int(input(\"Enter Programming Marks :\"))\n",
    "m = int(input(\"Enter Maths Marks :\"))\n",
    "i = int(input(\"Enter Introduction to Compution Marks :\"))\n",
    "\n",
    "o = p + m + i\n",
    "a = o/3\n",
    "\n",
    "print(\".........................\")\n",
    "print(\"=========================\")\n",
    "print(\"Subjects\\tMarks\")\n",
    "print(\"=========================\")\n",
    "print(\"Programming:\\t\",p)\n",
    "print(\"Maths      :\\t\",m)\n",
    "print(\"IntroToCom :\\t\",i)\n",
    "print(\"=========================\")\n",
    "print(\"Total      :\\t\",o)\n",
    "print(\"=========================\\n\\n\")\n",
    "print(\"=========================\")\n",
    "print(\"Your Average Marks\", a)\n",
    "print(\"========================\")\n",
    "print(\"........................\")\n",
    "print(\"Thanks For Your Time\")"
   ]
  },
  {
   "cell_type": "code",
   "execution_count": 13,
   "metadata": {},
   "outputs": [
    {
     "name": "stdout",
     "output_type": "stream",
     "text": [
      "Enter the hour(s)         : 5\n",
      "Enter the rate(per hour)  : 10\n",
      "\n",
      "\n",
      "\n",
      "\n",
      "\n",
      "\n",
      "---------------------------------------------\n",
      "The hour(s) you have worked      :  5\n",
      "The rate you are paid(per hour)  :  10.0 $\n",
      "Your gross salary                :  50.0 $\n",
      "--------------------------------------------\n"
     ]
    }
   ],
   "source": [
    "i = int(input(\"Enter the hour(s)         : \"))\n",
    "r = float(input(\"Enter the rate(per hour)  : \"))\n",
    "s = i * r\n",
    "print(\"\\n\\n\\n\\n\\n\")\n",
    "print(\"---------------------------------------------\")\n",
    "print(\"The hour(s) you have worked      : \",i)\n",
    "print(\"The rate you are paid(per hour)  : \",r,\"$\")\n",
    "print(\"Your gross salary                : \",s,\"$\")\n",
    "print(\"--------------------------------------------\")"
   ]
  },
  {
   "cell_type": "code",
   "execution_count": 27,
   "metadata": {},
   "outputs": [
    {
     "name": "stdout",
     "output_type": "stream",
     "text": [
      "Marks in First Subject  : 50\n",
      "Marks in Second Subject : 50\n",
      "Marks in Thrid Subject  : 50\n",
      "Marks in Fourth Subject : 50\n",
      "Marks in Fifth Subject  : 50\n",
      "Enter the Total Marks   : 500\n",
      "\n",
      "\n",
      "\n",
      "\n",
      "\n",
      "\n",
      "-------------------------------------------\n",
      "\tObtained Marks        : 250\n",
      "\tTotal Marks           : 500\n",
      "\tYour Percentage       : 50.0\n",
      "-------------------------------------------\n"
     ]
    }
   ],
   "source": [
    "s1 = int(input(\"Marks in First Subject  : \"))\n",
    "s2 = int(input(\"Marks in Second Subject : \"))\n",
    "s3 = int(input(\"Marks in Thrid Subject  : \"))\n",
    "s4 = int(input(\"Marks in Fourth Subject : \"))\n",
    "s5 = int(input(\"Marks in Fifth Subject  : \"))\n",
    "o = s1 + s2 + s3 + s4 + s5\n",
    "t = int(input(\"Enter the Total Marks   : \"))\n",
    "p = (o / t) * 100\n",
    "print(\"\\n\\n\\n\\n\\n\")\n",
    "print(\"-------------------------------------------\")\n",
    "print(\"\\tObtained Marks        :\",o)\n",
    "print(\"\\tTotal Marks           :\",t)\n",
    "print(\"\\tYour Percentage       :\",p)\n",
    "print(\"-------------------------------------------\")"
   ]
  },
  {
   "cell_type": "code",
   "execution_count": 29,
   "metadata": {},
   "outputs": [
    {
     "name": "stdout",
     "output_type": "stream",
     "text": [
      "True\n",
      "False\n",
      "<class 'bool'>\n",
      "<class 'bool'>\n"
     ]
    }
   ],
   "source": [
    "print(5 == 5)\n",
    "print(6 == 5)\n",
    "print(type(5 == 5))\n",
    "print(type(6 == 5))"
   ]
  },
  {
   "cell_type": "code",
   "execution_count": 41,
   "metadata": {},
   "outputs": [
    {
     "name": "stdout",
     "output_type": "stream",
     "text": [
      "x == y :  False\n",
      "x != y :  True\n",
      "x < y  :  True\n",
      "x > y  :  False\n",
      "x <= y :  True\n",
      "x >= y :  False\n"
     ]
    }
   ],
   "source": [
    "x = 10\n",
    "y = 20\n",
    "print(\"x == y : \",x == y)\n",
    "print(\"x != y : \",x != y)\n",
    "print(\"x < y  : \",x < y)\n",
    "print(\"x > y  : \",x > y)\n",
    "print(\"x <= y : \",x <= y)\n",
    "print(\"x >= y : \",x >= y)"
   ]
  },
  {
   "cell_type": "code",
   "execution_count": 42,
   "metadata": {},
   "outputs": [
    {
     "name": "stdout",
     "output_type": "stream",
     "text": [
      "False\n",
      "False\n"
     ]
    }
   ],
   "source": [
    "print(x + 2 < y / 10)\n",
    "print((x + 2) < (y / 10))"
   ]
  },
  {
   "cell_type": "code",
   "execution_count": 1,
   "metadata": {},
   "outputs": [
    {
     "name": "stdout",
     "output_type": "stream",
     "text": [
      "Your Name : A\n",
      "Your Name : A\n",
      "Both Names are same :  True\n",
      "Age of Studen_1 : 10\n",
      "Age of Studen_2 : 10\n",
      "Both Ages are same :  True\n"
     ]
    }
   ],
   "source": [
    "Student_1 = input(\"Your Name : \")\n",
    "Student_2 = input(\"Your Name : \")\n",
    "print(\"Both Names are same : \", Student_1 == Student_2)\n",
    "Age1 = int(input(\"Age of Studen_1 : \"))\n",
    "Age2 = int(input(\"Age of Studen_2 : \"))\n",
    "print(\"Both Ages are same : \",Age1 == Age2)"
   ]
  },
  {
   "cell_type": "code",
   "execution_count": 3,
   "metadata": {},
   "outputs": [
    {
     "name": "stdout",
     "output_type": "stream",
     "text": [
      "True\n",
      "False\n",
      "False\n",
      "True\n"
     ]
    }
   ],
   "source": [
    "x = 10\n",
    "print(x > 0 and x < 11)\n",
    "\n",
    "print(x & 2 == 0 or x & 3 == 0)\n",
    "\n",
    "print(not(x > 9))\n",
    "\n",
    "print(7 and True)"
   ]
  },
  {
   "cell_type": "code",
   "execution_count": 16,
   "metadata": {},
   "outputs": [
    {
     "data": {
      "text/plain": [
       "16"
      ]
     },
     "execution_count": 16,
     "metadata": {},
     "output_type": "execute_result"
    }
   ],
   "source": [
    "min(max(pow(2,1),pow(2,4)),max(pow(2,2),pow(2,3),pow(3,3)))"
   ]
  },
  {
   "cell_type": "code",
   "execution_count": 19,
   "metadata": {},
   "outputs": [
    {
     "name": "stdout",
     "output_type": "stream",
     "text": [
      "The Sum of Two Numbers : 7\n",
      "The Difference of Two Numbers : -1\n",
      "Sum of Two Numbers :  12\n",
      "Difference of Numbers :  4\n"
     ]
    }
   ],
   "source": [
    "from operator import add,sub\n",
    "\n",
    "print(\"The Sum of Two Numbers : \", end='')\n",
    "print(add(3,4))\n",
    "\n",
    "print(\"The Difference of Two Numbers : \", end='')\n",
    "print(sub(3,4))\n",
    "\n",
    "summ = add(3,9)\n",
    "diff = abs(sub(5,9))\n",
    "\n",
    "print(\"Sum of Two Numbers : \", summ)\n",
    "print(\"Difference of Numbers : \", diff)"
   ]
  },
  {
   "cell_type": "code",
   "execution_count": 1,
   "metadata": {},
   "outputs": [
    {
     "name": "stdout",
     "output_type": "stream",
     "text": [
      "Enter X :2\n",
      "Enter Y :3\n",
      "Sum =  5\n",
      "3 Times the Sum of X and Y :  15\n"
     ]
    }
   ],
   "source": [
    "import operator\n",
    "\n",
    "x = int(input(\"Enter X :\"))\n",
    "y = int(input(\"Enter Y :\"))\n",
    "\n",
    "print(\"Sum = \",operator.add(x,y))\n",
    "print(\"3 Times the Sum of X and Y : \", operator.mul(operator.add(x,y),3))\n",
    "\n",
    "#help(operator)"
   ]
  },
  {
   "cell_type": "code",
   "execution_count": 2,
   "metadata": {},
   "outputs": [],
   "source": [
    "#Taking Help about some standard Library\n",
    "import operator\n",
    "import math\n"
   ]
  },
  {
   "cell_type": "code",
   "execution_count": 4,
   "metadata": {},
   "outputs": [
    {
     "name": "stdout",
     "output_type": "stream",
     "text": [
      "Factorial of a given Number :  24\n",
      "Square root of a given Number :  5.291502622129181\n",
      "Ceil a Number :  22\n",
      "Floor a Number :  21\n",
      "GCD of a given Numbers :  4\n",
      "Cos of a radian :  0.5253219888177297\n",
      "Sin of a radian :  0.8509035245341184\n",
      "Tan of a radian :  1.6197751905438615\n",
      "Value of pi :  3.141592653589793\n"
     ]
    }
   ],
   "source": [
    "import math\n",
    "\n",
    "print(\"Factorial of a given Number : \", math.factorial(4))\n",
    "print(\"Square root of a given Number : \", math.sqrt(28))\n",
    "print(\"Ceil a Number : \", math.ceil(21.16748))\n",
    "print(\"Floor a Number : \", math.floor(21.16478))\n",
    "print(\"GCD of a given Numbers : \", math.gcd(28, 20))\n",
    "print(\"Cos of a radian : \", math.cos(45))\n",
    "print(\"Sin of a radian : \", math.sin(45))\n",
    "print(\"Tan of a radian : \", math.tan(45))\n",
    "print(\"Value of pi : \", math.pi)"
   ]
  },
  {
   "cell_type": "code",
   "execution_count": 12,
   "metadata": {},
   "outputs": [
    {
     "name": "stdout",
     "output_type": "stream",
     "text": [
      "Enter the Radius of your Circle : 5\n",
      "------------------------------------------------------\n",
      " Radius of the Circle    \t:  5\n",
      " Circumference of Circle \t:  31.41592653589793\n",
      " Area of Circle          \t:  78.53981633974483\n",
      "------------------------------------------------------\n"
     ]
    }
   ],
   "source": [
    "from math import pi\n",
    "\n",
    "r = int(input(\"Enter the Radius of your Circle : \"))\n",
    "c = 2*(pi)*r\n",
    "a = (pi)*(r**2)\n",
    "\n",
    "print(\"------------------------------------------------------\")\n",
    "print(\" Radius of the Circle    \\t: \",r)\n",
    "print(\" Circumference of Circle \\t: \",c)\n",
    "print(\" Area of Circle          \\t: \",a)\n",
    "print(\"------------------------------------------------------\")"
   ]
  },
  {
   "cell_type": "code",
   "execution_count": 29,
   "metadata": {},
   "outputs": [
    {
     "name": "stdout",
     "output_type": "stream",
     "text": [
      "Enter Value of X1 : 10\n",
      "Enter Value of Y1 : 5\n",
      "Enter Value of X2 : 10\n",
      "Enter Value of Y2 : 5\n",
      "\n",
      "\n",
      "\n",
      "\n",
      "--------------------------------------------------\n",
      "Coordinates 0f Point 1                :\t p1( 10 ,  5 )\n",
      "Coordinates 0f Point 1                :\t p1( 10 ,  5 )\n",
      "Distance between Point 1 and Point 2  :\t  0.0\n",
      "--------------------------------------------------\n"
     ]
    }
   ],
   "source": [
    "x1 = int(input(\"Enter Value of X1 : \"))\n",
    "y1 = int(input(\"Enter Value of Y1 : \"))\n",
    "\n",
    "x2 = int(input(\"Enter Value of X2 : \"))\n",
    "y2 = int(input(\"Enter Value of Y2 : \"))\n",
    "\n",
    "p1 = x2 - x1\n",
    "p2 = y2 - y1\n",
    "\n",
    "d = ((p1**2) + (p2**2))**(1/2)\n",
    "\n",
    "print(\"\\n\\n\\n\")\n",
    "print(\"-\"*50)\n",
    "print(\"Coordinates 0f Point 1                :\\t p1(\",x1,\", \",y1,\")\")\n",
    "print(\"Coordinates 0f Point 1                :\\t p1(\",x2,\", \",y2,\")\")\n",
    "print(\"Distance between Point 1 and Point 2  :\\t \",d)\n",
    "print(\"-\"*50)"
   ]
  },
  {
   "cell_type": "code",
   "execution_count": null,
   "metadata": {},
   "outputs": [],
   "source": []
  }
 ],
 "metadata": {
  "kernelspec": {
   "display_name": "Python 3",
   "language": "python",
   "name": "python3"
  },
  "language_info": {
   "codemirror_mode": {
    "name": "ipython",
    "version": 3
   },
   "file_extension": ".py",
   "mimetype": "text/x-python",
   "name": "python",
   "nbconvert_exporter": "python",
   "pygments_lexer": "ipython3",
   "version": "3.6.5"
  }
 },
 "nbformat": 4,
 "nbformat_minor": 2
}
