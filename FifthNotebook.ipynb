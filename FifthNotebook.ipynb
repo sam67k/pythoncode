{
 "cells": [
  {
   "cell_type": "code",
   "execution_count": 9,
   "metadata": {},
   "outputs": [
    {
     "name": "stdout",
     "output_type": "stream",
     "text": [
      "Welcome to Grading Program............\n",
      "\n",
      "Enter your Course Marks : 101\n",
      "You Passed the Course.\n",
      "Sorry! Your Marks are Invalid\n"
     ]
    }
   ],
   "source": [
    "print(\"Welcome to Grading Program............\\n\")\n",
    "MARKS = int(input(\"Enter your Course Marks : \"))\n",
    "if(MARKS < 60):\n",
    "    if(MARKS < 0):\n",
    "        print(\"Your marks are Invalid. Try Again\")\n",
    "    else:\n",
    "        print(\"Sorry ! You Failed the Course.\")\n",
    "elif(MARKS > 60):\n",
    "    print(\"You Passed the Course.\")\n",
    "    if(MARKS < 72):\n",
    "        print(\"Your Grade is 'C'\")\n",
    "    elif(MARKS < 87):\n",
    "        print(\"Your Grade is 'B'\")\n",
    "    elif(MARKS <= 100):\n",
    "        print(\"Your Grade is 'A'\")\n",
    "    else:\n",
    "        print(\"Sorry! Your Marks are Invalid\")\n",
    "else:\n",
    "    print(\"Invalid Marks\")"
   ]
  },
  {
   "cell_type": "code",
   "execution_count": 19,
   "metadata": {},
   "outputs": [
    {
     "name": "stdout",
     "output_type": "stream",
     "text": [
      "Whats Your GPA : 4.0\n",
      "How many Marks in Programming : 99\n",
      "Is it Raining ? :true\n",
      "We are going to Monal, Islamabad\n"
     ]
    }
   ],
   "source": [
    "gpa = float(input(\"Whats Your GPA : \"))\n",
    "marks = int(input(\"How many Marks in Programming : \"))\n",
    "rain = bool(input(\"Is it Raining ? :\"))\n",
    "\n",
    "if((gpa == 4.0 and marks > 90) and rain == True):\n",
    "    print(\"We are going to Monal, Islamabad\")\n",
    "elif((gpa == 4.0 or marks > 90) and rain == True):\n",
    "    print(\"We are going to Habbibi, I-10\")\n",
    "elif((gpa == 3.5 and marks < 90) and rain == False):\n",
    "    print(\"We are going to Sheraz, Peshawar\")\n",
    "elif(gpa < 2.0 or marks < 60):\n",
    "    print(\"Go to Home\")\n",
    "else:\n",
    "    print(\"Nothing\")"
   ]
  },
  {
   "cell_type": "code",
   "execution_count": 18,
   "metadata": {},
   "outputs": [
    {
     "name": "stdout",
     "output_type": "stream",
     "text": [
      "Enter Your Number : -5\n",
      "-5  is a Negative Number\n"
     ]
    }
   ],
   "source": [
    "n = int(input(\"Enter Your Number : \"))\n",
    "\n",
    "if(n > 0):\n",
    "    print(n,\" is a Positive Number\")\n",
    "elif(n < 0):\n",
    "    print(n,\" is a Negative Number\")\n",
    "elif(n == 0):\n",
    "    print(\"Your Number is \",n)\n",
    "else:\n",
    "    print(\"Error\")"
   ]
  },
  {
   "cell_type": "code",
   "execution_count": 30,
   "metadata": {},
   "outputs": [
    {
     "name": "stdout",
     "output_type": "stream",
     "text": [
      "Enter First Number : 50\n",
      "Enter Second Number : 56\n",
      "Your Quotient(Float) is :  0.8928571428571429\n"
     ]
    }
   ],
   "source": [
    "n1 = int(input(\"Enter First Number : \"))\n",
    "n2 = int(input(\"Enter Second Number : \"))\n",
    "\n",
    "if(n1%n2 == 0):\n",
    "    print(\"The Division is Possible : \")\n",
    "    "
   ]
  },
  {
   "cell_type": "code",
   "execution_count": null,
   "metadata": {},
   "outputs": [],
   "source": []
  }
 ],
 "metadata": {
  "kernelspec": {
   "display_name": "Python 3",
   "language": "python",
   "name": "python3"
  },
  "language_info": {
   "codemirror_mode": {
    "name": "ipython",
    "version": 3
   },
   "file_extension": ".py",
   "mimetype": "text/x-python",
   "name": "python",
   "nbconvert_exporter": "python",
   "pygments_lexer": "ipython3",
   "version": "3.6.5"
  }
 },
 "nbformat": 4,
 "nbformat_minor": 2
}
