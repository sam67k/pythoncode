{
 "cells": [
  {
   "cell_type": "code",
   "execution_count": 6,
   "metadata": {},
   "outputs": [
    {
     "name": "stdout",
     "output_type": "stream",
     "text": [
      "Enter First Number   : 10\n",
      "Enter Second Number  :5\n",
      "Sum of Two Numbers :  15\n",
      "Subtraction of Two Numbers :  5\n",
      "Difference of Two Numbers :  5\n",
      "Multiplication of Two Numbers :  50\n"
     ]
    }
   ],
   "source": [
    "def Addition(x, y):\n",
    "    print(\"Sum of Two Numbers : \",x + y)\n",
    "\n",
    "def Subtraction(x, y):\n",
    "    print(\"Subtraction of Two Numbers : \",x - y)\n",
    "\n",
    "def Difference(x, y):\n",
    "    print(\"Difference of Two Numbers : \",abs(x - y))\n",
    "    \n",
    "def Multiplication(x, y):\n",
    "    print(\"Multiplication of Two Numbers : \",x * y)\n",
    "\n",
    "a = int(input(\"Enter First Number   : \"))\n",
    "b = int(input(\"Enter Second Number  : \"))\n",
    "    \n",
    "Addition(a, b)\n",
    "Subtraction(a, b)\n",
    "Difference(a, b)\n",
    "Multiplication(a, b)"
   ]
  },
  {
   "cell_type": "code",
   "execution_count": 9,
   "metadata": {},
   "outputs": [
    {
     "name": "stdout",
     "output_type": "stream",
     "text": [
      "Enter Radius of First Circle   :  3\n",
      "Enter Radius of Second Circle  :  4\n"
     ]
    },
    {
     "data": {
      "text/plain": [
       "78.53981633974483"
      ]
     },
     "execution_count": 9,
     "metadata": {},
     "output_type": "execute_result"
    }
   ],
   "source": [
    "from math import pi\n",
    "\n",
    "def CalcArea(r):\n",
    "    result = (pi)*(r**2)\n",
    "    return result\n",
    "\n",
    "def SumOfAreas(a1, a2):\n",
    "    result = a1 + a2\n",
    "    return result\n",
    "\n",
    "C1 = int(input(\"Enter Radius of First Circle   :  \"))\n",
    "A1 = CalcArea(C1)\n",
    "C2 = int(input(\"Enter Radius of Second Circle  :  \"))\n",
    "A2 = CalcArea(C2)\n",
    "\n",
    "SumOfAreas(A1, A2)"
   ]
  },
  {
   "cell_type": "code",
   "execution_count": null,
   "metadata": {},
   "outputs": [],
   "source": []
  }
 ],
 "metadata": {
  "kernelspec": {
   "display_name": "Python 3",
   "language": "python",
   "name": "python3"
  },
  "language_info": {
   "codemirror_mode": {
    "name": "ipython",
    "version": 3
   },
   "file_extension": ".py",
   "mimetype": "text/x-python",
   "name": "python",
   "nbconvert_exporter": "python",
   "pygments_lexer": "ipython3",
   "version": "3.6.5"
  }
 },
 "nbformat": 4,
 "nbformat_minor": 2
}
