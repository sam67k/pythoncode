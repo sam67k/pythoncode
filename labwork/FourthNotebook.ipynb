{
 "cells": [
  {
   "cell_type": "code",
   "execution_count": 6,
   "metadata": {},
   "outputs": [
    {
     "name": "stdout",
     "output_type": "stream",
     "text": [
      "Enter GPA : 3\n",
      "Sorry\n"
     ]
    }
   ],
   "source": [
    "gpa = float(input(\"Enter GPA : \"))\n",
    "if gpa > 3.5:\n",
    "    print(\"Go to Monal\")\n",
    "else:\n",
    "    print(\"Sorry\")"
   ]
  },
  {
   "cell_type": "code",
   "execution_count": 17,
   "metadata": {},
   "outputs": [
    {
     "name": "stdout",
     "output_type": "stream",
     "text": [
      "Enter your Guess : 20\n",
      "Your Guess is CORRECT the number is  20\n"
     ]
    }
   ],
   "source": [
    "from random import randint\n",
    "\n",
    "N = randint(20,30)\n",
    "\n",
    "guess = int(input(\"Enter your Guess : \"))\n",
    "\n",
    "if guess == N:\n",
    "    print(\"Your Guess is CORRECT the number is \",N)\n",
    "else:\n",
    "    print(\"Your Guess is INCORECT the number is \",N)"
   ]
  },
  {
   "cell_type": "code",
   "execution_count": 23,
   "metadata": {},
   "outputs": [
    {
     "name": "stdout",
     "output_type": "stream",
     "text": [
      "Enter your GPA : 2.0\n",
      "Pass\n"
     ]
    }
   ],
   "source": [
    "gpa = float(input(\"Enter your GPA : \"))\n",
    "\n",
    "if gpa < 2.0:\n",
    "    print(\"Fail\")\n",
    "elif gpa >= 2.0:\n",
    "    print(\"Pass\")\n",
    "elif gpa > 4.0:\n",
    "    print(\"Invalid\")"
   ]
  },
  {
   "cell_type": "code",
   "execution_count": 35,
   "metadata": {},
   "outputs": [
    {
     "name": "stdout",
     "output_type": "stream",
     "text": [
      "Enter your Number : 6\n",
      "Even\n"
     ]
    }
   ],
   "source": [
    "n = int(input(\"Enter your Number : \"))\n",
    "\n",
    "def EvenOddFinder(n):\n",
    "    if(n%2 == 0):\n",
    "        print(\"Even\")\n",
    "    else:\n",
    "        print(\"Odd\")"
   ]
  },
  {
   "cell_type": "code",
   "execution_count": 37,
   "metadata": {},
   "outputs": [
    {
     "name": "stdout",
     "output_type": "stream",
     "text": [
      "Enter First Number   :  5\n",
      "Enter Second Number  :  4\n",
      "Non Divisible\n"
     ]
    }
   ],
   "source": [
    "n1 = int(input(\"Enter First Number   :  \"))\n",
    "n2 = int(input(\"Enter Second Number  :  \"))\n",
    "\n",
    "if(n1%n2 == 0):\n",
    "    print(\"Divisible\")\n",
    "else:\n",
    "    print(\"Non Divisible\")"
   ]
  },
  {
   "cell_type": "code",
   "execution_count": null,
   "metadata": {},
   "outputs": [],
   "source": []
  }
 ],
 "metadata": {
  "kernelspec": {
   "display_name": "Python 3",
   "language": "python",
   "name": "python3"
  },
  "language_info": {
   "codemirror_mode": {
    "name": "ipython",
    "version": 3
   },
   "file_extension": ".py",
   "mimetype": "text/x-python",
   "name": "python",
   "nbconvert_exporter": "python",
   "pygments_lexer": "ipython3",
   "version": "3.6.5"
  }
 },
 "nbformat": 4,
 "nbformat_minor": 2
}
