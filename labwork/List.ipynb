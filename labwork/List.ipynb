{
 "cells": [
  {
   "cell_type": "code",
   "execution_count": 1,
   "metadata": {},
   "outputs": [
    {
     "name": "stdout",
     "output_type": "stream",
     "text": [
      "[2, 3, 4, 5]\n",
      "[9, 8, 7, 6]\n",
      "[2, 3, 4, 5, 9, 8, 7, 6]\n",
      "[2, 3, 4, 5, 2, 3, 4, 5]\n"
     ]
    }
   ],
   "source": [
    "list1 = [2,3,4,5]\n",
    "print(list1)\n",
    "\n",
    "list2 = [9,8,7,6]\n",
    "print(list2)\n",
    "\n",
    "list3 = list1 + list2\n",
    "print(list3)\n",
    "\n",
    "list4 = list1 * 2\n",
    "print(list4)"
   ]
  },
  {
   "cell_type": "code",
   "execution_count": 5,
   "metadata": {},
   "outputs": [
    {
     "name": "stdout",
     "output_type": "stream",
     "text": [
      "Enter integer (-1 quits) : 1\n",
      "Enter integer (-1 quits) : 2\n",
      "Enter integer (-1 quits) : 3\n",
      "Enter integer (-1 quits) : 45\n",
      "Enter integer (-1 quits) : 5\n",
      "Enter integer (-1 quits) : 6\n",
      "Enter integer (-1 quits) : 7\n",
      "Enter integer (-1 quits) : 8\n",
      "Enter integer (-1 quits) : 9\n",
      "Enter integer (-1 quits) : 0\n",
      "Enter integer (-1 quits) : -1\n",
      "\n",
      " [1, 2, 3, 45, 5, 6, 7, 8, 9, 0]\n"
     ]
    }
   ],
   "source": [
    "\n",
    "def make_list():\n",
    "    result = []\n",
    "    in_val = 0\n",
    "    while in_val >= 0:\n",
    "        print(\"\\n\",result)\n",
    "        in_val = int(input(\"Enter integer (-1 quits) : \"))\n",
    "        if in_val >= 0:\n",
    "            result += [in_val]\n",
    "    return result\n",
    "\n",
    "def main():\n",
    "    myList = make_list()\n",
    "    print(\"\\n\",myList)\n",
    "    \n",
    "main()\n"
   ]
  },
  {
   "cell_type": "code",
   "execution_count": 6,
   "metadata": {},
   "outputs": [
    {
     "name": "stdout",
     "output_type": "stream",
     "text": [
      "Enter integer (-1 quits) : 1\n",
      "Enter integer (-1 quits) : 2\n",
      "Enter integer (-1 quits) : 74\n",
      "Enter integer (-1 quits) : 75\n",
      "Enter integer (-1 quits) : 4545\n",
      "Enter integer (-1 quits) : 45\n",
      "Enter integer (-1 quits) : 4\n",
      "Enter integer (-1 quits) : 45\n",
      "Enter integer (-1 quits) : 45\n",
      "Enter integer (-1 quits) : 45\n",
      "Enter integer (-1 quits) : 4645\n",
      "Enter integer (-1 quits) : 82\n",
      "Enter integer (-1 quits) : 4\n",
      "Enter integer (-1 quits) : 785\n",
      "Enter integer (-1 quits) : 422\n",
      "Enter integer (-1 quits) : 78\n",
      "Enter integer (-1 quits) : 7554\n",
      "Enter integer (-1 quits) : -1\n",
      "\n",
      " [1, 2, 74, 75, 4545, 45, 4, 45, 45, 45, 4645, 82, 4, 785, 422, 78, 7554]\n"
     ]
    }
   ],
   "source": [
    "\n",
    "def make_list():\n",
    "    result = []\n",
    "    in_val = 0\n",
    "    while in_val >= 0:\n",
    "        in_val = int(input(\"Enter integer (-1 quits) : \"))\n",
    "        if in_val >= 0:\n",
    "            result += [in_val]\n",
    "    return result\n",
    "\n",
    "def main():\n",
    "    myList = make_list()\n",
    "    print(\"\\n\",myList)\n",
    "    \n",
    "main()\n"
   ]
  },
  {
   "cell_type": "code",
   "execution_count": 19,
   "metadata": {},
   "outputs": [
    {
     "name": "stdout",
     "output_type": "stream",
     "text": [
      "Enter total Subjects (Number of Subjects should be +ve) : 5\n",
      "Enter Marks of Subject : 1\n",
      "Enter Marks of Subject : 1\n",
      "Enter Marks of Subject : 1\n",
      "Enter Marks of Subject : 1\n",
      "Enter Marks of Subject : 1\n",
      "Marks List :  [1, 1, 1, 1, 1]\n"
     ]
    }
   ],
   "source": [
    "def Marks_List():\n",
    "    subs = int(input(\"Enter total Subjects (Number of Subjects should be +ve) : \"))\n",
    "    while subs <= 0:\n",
    "        subs = int(input(\"Enter total Subjects (Number of Subjects should be +ve) : \"))\n",
    "\n",
    "    Marks = []\n",
    "    \n",
    "    for i in range(subs):\n",
    "        mark = int(input(\"Enter Marks of Subject : \"))\n",
    "        Marks += [mark]\n",
    "    \n",
    "    print(\"Marks List : \",Marks) \n",
    "\n",
    "Marks_List()"
   ]
  },
  {
   "cell_type": "code",
   "execution_count": 3,
   "metadata": {},
   "outputs": [
    {
     "name": "stdout",
     "output_type": "stream",
     "text": [
      "Enter total Subjects (Number of Subjects should be +ve) : 5\n",
      "\n",
      "Enter Subject- 1 Marks : \n",
      "10\n",
      "\n",
      "Enter Subject- 2 Marks : \n",
      "100\n",
      "\n",
      "Enter Subject- 3 Marks : \n",
      "10\n",
      "\n",
      "Enter Subject- 4 Marks : \n",
      "10\n",
      "\n",
      "Enter Subject- 5 Marks : \n",
      "10\n"
     ]
    }
   ],
   "source": [
    "def Marks_List():\n",
    "    subs = int(input(\"Enter total Subjects (Number of Subjects should be +ve) : \"))\n",
    "    while subs <= 0:\n",
    "        subs = int(input(\"Enter total Subjects (Number of Subjects should be +ve) : \"))\n",
    "\n",
    "    SUBS = []\n",
    "    marks = 0\n",
    "    counter = 1\n",
    "    \n",
    "    while counter <= subs:\n",
    "        print(\"\\nEnter Subject-\",counter,\"Marks : \")\n",
    "        marks = int(input())\n",
    "        while(marks < 0 or marks > 100):\n",
    "            print(\"\\nEnter Subject-\",counter,\"Marks : \")\n",
    "            marks = int(input())\n",
    "        SUBS = SUBS + [marks]\n",
    "        counter += 1\n",
    "        \n",
    "Marks_List()"
   ]
  },
  {
   "cell_type": "code",
   "execution_count": 4,
   "metadata": {},
   "outputs": [
    {
     "name": "stdout",
     "output_type": "stream",
     "text": [
      "Enter total Subjects (Number of Subjects should be +ve) : 5\n",
      "\n",
      "Enter Subject- 1  Marks : \n",
      "50\n",
      "\n",
      "Enter Subject- 2  Marks : \n",
      "50\n",
      "\n",
      "Enter Subject- 3  Marks : \n",
      "50\n",
      "\n",
      "Enter Subject- 4  Marks : \n",
      "50\n",
      "\n",
      "Enter Subject- 5  Marks : \n",
      "50\n"
     ]
    }
   ],
   "source": [
    "\n",
    "def Marks_List():\n",
    "    subs = int(input(\"Enter total Subjects (Number of Subjects should be +ve) : \"))\n",
    "    while subs <= 0:\n",
    "        subs = int(input(\"Enter total Subjects (Number of Subjects should be +ve) : \"))\n",
    "\n",
    "    SUBS = []\n",
    "    marks = 0\n",
    "    counter = 1\n",
    "    \n",
    "    while counter <= subs:\n",
    "        print(\"\\nEnter Subject-\",counter,\" Marks : \",sep=\" \")\n",
    "        marks = int(input())\n",
    "        if not(marks >= 0 and marks <= 100):\n",
    "            print(\"\\nEnter Subject-\",counter,\" Marks \\\"AGAIN\\\" (Valid Marks) : \",sep='')\n",
    "            marks = int(input())\n",
    "        SUBS = SUBS + [marks]\n",
    "        counter += 1\n",
    "        \n",
    "Marks_List()\n"
   ]
  }
 ],
 "metadata": {
  "kernelspec": {
   "display_name": "Python 3",
   "language": "python",
   "name": "python3"
  },
  "language_info": {
   "codemirror_mode": {
    "name": "ipython",
    "version": 3
   },
   "file_extension": ".py",
   "mimetype": "text/x-python",
   "name": "python",
   "nbconvert_exporter": "python",
   "pygments_lexer": "ipython3",
   "version": "3.7.0"
  }
 },
 "nbformat": 4,
 "nbformat_minor": 2
}
