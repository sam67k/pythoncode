{
 "cells": [
  {
   "cell_type": "code",
   "execution_count": 2,
   "metadata": {},
   "outputs": [
    {
     "name": "stdout",
     "output_type": "stream",
     "text": [
      "Enter Range for Number : 5\n",
      "Enter Range for Table : 8\n",
      "\n",
      "**************** Table of 1 *******************\n",
      "\t\t 1 * 1 = 1\n",
      "\t\t 1 * 2 = 2\n",
      "\t\t 1 * 3 = 3\n",
      "\t\t 1 * 4 = 4\n",
      "\t\t 1 * 5 = 5\n",
      "\t\t 1 * 6 = 6\n",
      "\t\t 1 * 7 = 7\n",
      "\t\t 1 * 8 = 8\n",
      "\n",
      "**************** Table of 2 *******************\n",
      "\t\t 2 * 1 = 2\n",
      "\t\t 2 * 2 = 4\n",
      "\t\t 2 * 3 = 6\n",
      "\t\t 2 * 4 = 8\n",
      "\t\t 2 * 5 = 10\n",
      "\t\t 2 * 6 = 12\n",
      "\t\t 2 * 7 = 14\n",
      "\t\t 2 * 8 = 16\n",
      "\n",
      "**************** Table of 3 *******************\n",
      "\t\t 3 * 1 = 3\n",
      "\t\t 3 * 2 = 6\n",
      "\t\t 3 * 3 = 9\n",
      "\t\t 3 * 4 = 12\n",
      "\t\t 3 * 5 = 15\n",
      "\t\t 3 * 6 = 18\n",
      "\t\t 3 * 7 = 21\n",
      "\t\t 3 * 8 = 24\n",
      "\n",
      "**************** Table of 4 *******************\n",
      "\t\t 4 * 1 = 4\n",
      "\t\t 4 * 2 = 8\n",
      "\t\t 4 * 3 = 12\n",
      "\t\t 4 * 4 = 16\n",
      "\t\t 4 * 5 = 20\n",
      "\t\t 4 * 6 = 24\n",
      "\t\t 4 * 7 = 28\n",
      "\t\t 4 * 8 = 32\n",
      "\n",
      "**************** Table of 5 *******************\n",
      "\t\t 5 * 1 = 5\n",
      "\t\t 5 * 2 = 10\n",
      "\t\t 5 * 3 = 15\n",
      "\t\t 5 * 4 = 20\n",
      "\t\t 5 * 5 = 25\n",
      "\t\t 5 * 6 = 30\n",
      "\t\t 5 * 7 = 35\n",
      "\t\t 5 * 8 = 40\n"
     ]
    }
   ],
   "source": [
    "NumberRange = int(input(\"Enter Range for Number : \"))\n",
    "TableRange = int(input(\"Enter Range for Table : \"))\n",
    "\n",
    "\n",
    "for n in range(1,NumberRange+1):\n",
    "    print(\"\\n**************** Table of\",n,\"*******************\")\n",
    "    for t in range(1,TableRange+1):\n",
    "        print(\"\\t\\t\",n,\"*\",t,\"=\",n*t )"
   ]
  },
  {
   "cell_type": "code",
   "execution_count": 2,
   "metadata": {},
   "outputs": [
    {
     "name": "stdout",
     "output_type": "stream",
     "text": [
      "Enter Lower Range for Number : 6\n",
      "Enter Upper Range for Number : 12\n",
      "Enter Lower Range for Table : 5\n",
      "Enter Upper Range for Table : 9\n",
      "\n",
      "**************** Table of 6 *******************\n",
      "\t\t 6 x 5 = 30\n",
      "\t\t 6 x 6 = 36\n",
      "\t\t 6 x 7 = 42\n",
      "\t\t 6 x 8 = 48\n",
      "\t\t 6 x 9 = 54\n",
      "\n",
      "**************** Table of 7 *******************\n",
      "\t\t 7 x 5 = 35\n",
      "\t\t 7 x 6 = 42\n",
      "\t\t 7 x 7 = 49\n",
      "\t\t 7 x 8 = 56\n",
      "\t\t 7 x 9 = 63\n",
      "\n",
      "**************** Table of 8 *******************\n",
      "\t\t 8 x 5 = 40\n",
      "\t\t 8 x 6 = 48\n",
      "\t\t 8 x 7 = 56\n",
      "\t\t 8 x 8 = 64\n",
      "\t\t 8 x 9 = 72\n",
      "\n",
      "**************** Table of 9 *******************\n",
      "\t\t 9 x 5 = 45\n",
      "\t\t 9 x 6 = 54\n",
      "\t\t 9 x 7 = 63\n",
      "\t\t 9 x 8 = 72\n",
      "\t\t 9 x 9 = 81\n",
      "\n",
      "**************** Table of 10 *******************\n",
      "\t\t 10 x 5 = 50\n",
      "\t\t 10 x 6 = 60\n",
      "\t\t 10 x 7 = 70\n",
      "\t\t 10 x 8 = 80\n",
      "\t\t 10 x 9 = 90\n",
      "\n",
      "**************** Table of 11 *******************\n",
      "\t\t 11 x 5 = 55\n",
      "\t\t 11 x 6 = 66\n",
      "\t\t 11 x 7 = 77\n",
      "\t\t 11 x 8 = 88\n",
      "\t\t 11 x 9 = 99\n",
      "\n",
      "**************** Table of 12 *******************\n",
      "\t\t 12 x 5 = 60\n",
      "\t\t 12 x 6 = 72\n",
      "\t\t 12 x 7 = 84\n",
      "\t\t 12 x 8 = 96\n",
      "\t\t 12 x 9 = 108\n"
     ]
    }
   ],
   "source": [
    "nlr = int(input(\"Enter Lower Range for Number : \"))\n",
    "nur = int(input(\"Enter Upper Range for Number : \"))\n",
    "tlr = int(input(\"Enter Lower Range for Table : \"))\n",
    "tur = int(input(\"Enter Upper Range for Table : \"))\n",
    "\n",
    "for n in range(nlr,nur+1):\n",
    "    print(\"\\n**************** Table of\",n,\"*******************\")\n",
    "    for t in range(tlr,tur+1):\n",
    "        print(\"\\t\\t\",n,\"x\",t,\"=\",n*t )"
   ]
  },
  {
   "cell_type": "code",
   "execution_count": 14,
   "metadata": {},
   "outputs": [
    {
     "name": "stdout",
     "output_type": "stream",
     "text": [
      "Enter a Number : 8\n",
      "\n",
      " 8  is not a Prime Number\n"
     ]
    }
   ],
   "source": [
    "n = int(input(\"Enter a Number : \"))\n",
    "\n",
    "for p in range(2,n):\n",
    "    if(n%p == 0):\n",
    "        print(\"\\n\",n,\" is not a Prime Number\")\n",
    "        break\n",
    "else:\n",
    "    print(\"\\n\",n,\" is a Prime Number\")\n",
    "        "
   ]
  },
  {
   "cell_type": "code",
   "execution_count": null,
   "metadata": {},
   "outputs": [],
   "source": []
  }
 ],
 "metadata": {
  "kernelspec": {
   "display_name": "Python 3",
   "language": "python",
   "name": "python3"
  },
  "language_info": {
   "codemirror_mode": {
    "name": "ipython",
    "version": 3
   },
   "file_extension": ".py",
   "mimetype": "text/x-python",
   "name": "python",
   "nbconvert_exporter": "python",
   "pygments_lexer": "ipython3",
   "version": "3.6.5"
  }
 },
 "nbformat": 4,
 "nbformat_minor": 2
}
