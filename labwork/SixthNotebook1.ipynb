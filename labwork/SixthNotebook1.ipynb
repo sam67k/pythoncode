{
 "cells": [
  {
   "cell_type": "code",
   "execution_count": null,
   "metadata": {},
   "outputs": [],
   "source": [
    "N = int(input(\"Enter Numbers : \"))\n",
    "S = int(input(\"Enter Starting Number : \"))\n",
    "E = int(input(\"Enter Ending Number : \"))\n",
    "J = int(input(\"Enter Jump : \"))\n",
    "\n",
    "for i in range(N):\n",
    "    print(i)\n",
    "\n",
    "for i in range(S,E):\n",
    "    print(i,end='')\n",
    "    \n",
    "for i in range(S,E,J):\n",
    "    print(i,end='')\n"
   ]
  },
  {
   "cell_type": "code",
   "execution_count": 3,
   "metadata": {},
   "outputs": [
    {
     "name": "stdout",
     "output_type": "stream",
     "text": [
      "Adding  0 ...................\n",
      "Adding  2 ...................\n",
      "Adding  4 ...................\n",
      "Adding  6 ...................\n",
      "Adding  8 ...................\n",
      "Adding  10 ...................\n",
      "Adding  12 ...................\n",
      "Adding  14 ...................\n",
      "Adding  16 ...................\n",
      "Adding  18 ...................\n",
      "The Sum of First 10 Even Number =  90\n"
     ]
    }
   ],
   "source": [
    "Sum = 0\n",
    "for num in range(0,19,2):\n",
    "    print(\"Adding \",num ,\"...................\")\n",
    "    Sum = Sum + num\n",
    "    \n",
    "print(\"The Sum of First 10 Even Number = \", Sum)"
   ]
  },
  {
   "cell_type": "code",
   "execution_count": 11,
   "metadata": {},
   "outputs": [
    {
     "name": "stdout",
     "output_type": "stream",
     "text": [
      "Enter Number : 5\n",
      "Enter Lower Range : 5\n",
      "Enter Upper Range : 10\n",
      "5 X 5 = 25\n",
      "5 X 6 = 30\n",
      "5 X 7 = 35\n",
      "5 X 8 = 40\n",
      "5 X 9 = 45\n",
      "5 X 10 = 50\n"
     ]
    }
   ],
   "source": [
    "n = int(input(\"Enter Number : \"))\n",
    "lr = int(input(\"Enter Lower Range : \"))\n",
    "ur = int(input(\"Enter Upper Range : \"))\n",
    "if(ur > lr):\n",
    "    for i in range( lr , ur+1 ):\n",
    "        r = n * i\n",
    "        print( n , \"X\" , i , \"=\" , r )\n",
    "elif(lr > ur):\n",
    "    print(\" Error \")\n",
    "else:\n",
    "    print(\" Error \")"
   ]
  },
  {
   "cell_type": "code",
   "execution_count": 14,
   "metadata": {},
   "outputs": [
    {
     "name": "stdout",
     "output_type": "stream",
     "text": [
      "Enter The Number : 5\n",
      "Enter 1st Range : 151\n",
      "Enter 2nd Range : 51\n",
      "5 X 51 = 255\n",
      "5 X 52 = 260\n",
      "5 X 53 = 265\n",
      "5 X 54 = 270\n",
      "5 X 55 = 275\n",
      "5 X 56 = 280\n",
      "5 X 57 = 285\n",
      "5 X 58 = 290\n",
      "5 X 59 = 295\n",
      "5 X 60 = 300\n",
      "5 X 61 = 305\n",
      "5 X 62 = 310\n",
      "5 X 63 = 315\n",
      "5 X 64 = 320\n",
      "5 X 65 = 325\n",
      "5 X 66 = 330\n",
      "5 X 67 = 335\n",
      "5 X 68 = 340\n",
      "5 X 69 = 345\n",
      "5 X 70 = 350\n",
      "5 X 71 = 355\n",
      "5 X 72 = 360\n",
      "5 X 73 = 365\n",
      "5 X 74 = 370\n",
      "5 X 75 = 375\n",
      "5 X 76 = 380\n",
      "5 X 77 = 385\n",
      "5 X 78 = 390\n",
      "5 X 79 = 395\n",
      "5 X 80 = 400\n",
      "5 X 81 = 405\n",
      "5 X 82 = 410\n",
      "5 X 83 = 415\n",
      "5 X 84 = 420\n",
      "5 X 85 = 425\n",
      "5 X 86 = 430\n",
      "5 X 87 = 435\n",
      "5 X 88 = 440\n",
      "5 X 89 = 445\n",
      "5 X 90 = 450\n",
      "5 X 91 = 455\n",
      "5 X 92 = 460\n",
      "5 X 93 = 465\n",
      "5 X 94 = 470\n",
      "5 X 95 = 475\n",
      "5 X 96 = 480\n",
      "5 X 97 = 485\n",
      "5 X 98 = 490\n",
      "5 X 99 = 495\n",
      "5 X 100 = 500\n",
      "5 X 101 = 505\n",
      "5 X 102 = 510\n",
      "5 X 103 = 515\n",
      "5 X 104 = 520\n",
      "5 X 105 = 525\n",
      "5 X 106 = 530\n",
      "5 X 107 = 535\n",
      "5 X 108 = 540\n",
      "5 X 109 = 545\n",
      "5 X 110 = 550\n",
      "5 X 111 = 555\n",
      "5 X 112 = 560\n",
      "5 X 113 = 565\n",
      "5 X 114 = 570\n",
      "5 X 115 = 575\n",
      "5 X 116 = 580\n",
      "5 X 117 = 585\n",
      "5 X 118 = 590\n",
      "5 X 119 = 595\n",
      "5 X 120 = 600\n",
      "5 X 121 = 605\n",
      "5 X 122 = 610\n",
      "5 X 123 = 615\n",
      "5 X 124 = 620\n",
      "5 X 125 = 625\n",
      "5 X 126 = 630\n",
      "5 X 127 = 635\n",
      "5 X 128 = 640\n",
      "5 X 129 = 645\n",
      "5 X 130 = 650\n",
      "5 X 131 = 655\n",
      "5 X 132 = 660\n",
      "5 X 133 = 665\n",
      "5 X 134 = 670\n",
      "5 X 135 = 675\n",
      "5 X 136 = 680\n",
      "5 X 137 = 685\n",
      "5 X 138 = 690\n",
      "5 X 139 = 695\n",
      "5 X 140 = 700\n",
      "5 X 141 = 705\n",
      "5 X 142 = 710\n",
      "5 X 143 = 715\n",
      "5 X 144 = 720\n",
      "5 X 145 = 725\n",
      "5 X 146 = 730\n",
      "5 X 147 = 735\n",
      "5 X 148 = 740\n",
      "5 X 149 = 745\n",
      "5 X 150 = 750\n"
     ]
    }
   ],
   "source": [
    "N =int(input(\"Enter The Number : \"))\n",
    "p1 = int(input(\"Enter 1st Range : \"))\n",
    "p2 = int(input(\"Enter 2nd Range : \"))\n",
    "\n",
    "if(p1 > p2):\n",
    "    r1 = p2\n",
    "    r2 = p1\n",
    "elif(p2 > p1):\n",
    "    r2 = p2\n",
    "    r1 = p1\n",
    "\n",
    "for i in range( r1 , r2 ):\n",
    "    r = n * i\n",
    "    print( n , \"X\" , i , \"=\" , r )\n",
    "        "
   ]
  },
  {
   "cell_type": "code",
   "execution_count": 13,
   "metadata": {},
   "outputs": [
    {
     "name": "stdout",
     "output_type": "stream",
     "text": [
      "Enter Number : 5\n",
      "Enter Lower Range : 3\n",
      "Enter Upper Range : 10\n",
      "5 X 3 = 125\n",
      "5 X 4 = 625\n",
      "5 X 5 = 3125\n",
      "5 X 6 = 15625\n",
      "5 X 7 = 78125\n",
      "5 X 8 = 390625\n",
      "5 X 9 = 1953125\n",
      "5 X 10 = 9765625\n"
     ]
    }
   ],
   "source": [
    "n = int(input(\"Enter Number : \"))\n",
    "lr = int(input(\"Enter Lower Range : \"))\n",
    "ur = int(input(\"Enter Upper Range : \"))\n",
    "if(ur > lr):\n",
    "    for i in range( lr , ur+1 ):\n",
    "        r = n ** i\n",
    "        print( n , \"X\" , i , \"=\" , r )\n",
    "elif(lr > ur):\n",
    "    print(\" Error \")\n",
    "else:\n",
    "    print(\" Error \")"
   ]
  },
  {
   "cell_type": "code",
   "execution_count": 17,
   "metadata": {},
   "outputs": [
    {
     "name": "stdout",
     "output_type": "stream",
     "text": [
      "1 - P\n",
      "2 - r\n",
      "3 - o\n",
      "4 - g\n",
      "5 - r\n",
      "6 - a\n",
      "7 - m\n",
      "8 - m\n",
      "9 - i\n",
      "10 - n\n",
      "11 - g\n"
     ]
    }
   ],
   "source": [
    "Name = \"Programming\"\n",
    "count = 0\n",
    "for c in Name:\n",
    "    count = count + 1\n",
    "    print(count,\"-\",c)"
   ]
  },
  {
   "cell_type": "code",
   "execution_count": 18,
   "metadata": {},
   "outputs": [
    {
     "name": "stdout",
     "output_type": "stream",
     "text": [
      "[ P ] [ A ] [ K ] [ I ] [ S ] [ T ] [ A ] [ N ] "
     ]
    }
   ],
   "source": [
    "str = \"PAKISTAN\"\n",
    "\n",
    "for c in str:\n",
    "    print(\"[\",c,\"]\", end=' ')"
   ]
  },
  {
   "cell_type": "code",
   "execution_count": 20,
   "metadata": {},
   "outputs": [
    {
     "name": "stdout",
     "output_type": "stream",
     "text": [
      "Enter Some TEXT : pakistan\n",
      "[ p ] [ a ] [ k ] [ i ] [ s ] [ t ] [ a ] [ n ] \n",
      "Total Number of Letters in Your Text is :  8\n"
     ]
    }
   ],
   "source": [
    "str = input(\"Enter Some TEXT : \")\n",
    "count = 0\n",
    "for c in str:\n",
    "    count = count + 1\n",
    "    print(\"[\",c,\"]\", end=' ')\n",
    "print(\"\\nTotal Number of Letters in Your Text is : \",count)"
   ]
  },
  {
   "cell_type": "code",
   "execution_count": 21,
   "metadata": {},
   "outputs": [
    {
     "name": "stdout",
     "output_type": "stream",
     "text": [
      "Enter Some TEXT : pakistan\n",
      "[ p ] [ a ] [ k ] [ i ] [ s ] [ t ] [ a ] [ n ] \n",
      "Total Number of Letters in Your Text is :  8\n"
     ]
    }
   ],
   "source": [
    "str = input(\"Enter Some TEXT : \")\n",
    "count = 0\n",
    "for c in str:\n",
    "    if(c == c ):\n",
    "        count = count + 1\n",
    "        print(\"[\",c,\"]\", end=' ')\n",
    "        \n",
    "        \n",
    "print(\"\\nTotal Number of Letters in Your Text is : \",count)"
   ]
  },
  {
   "cell_type": "code",
   "execution_count": 4,
   "metadata": {},
   "outputs": [
    {
     "name": "stdout",
     "output_type": "stream",
     "text": [
      "Enter Some TEXT : i am pakistani\n",
      "[ a ]\n",
      "[   ]\n",
      "[ k ]\n"
     ]
    }
   ],
   "source": [
    "str = input(\"Enter Some TEXT : \")\n",
    "count = 0\n",
    "for c in str:\n",
    "    count = count + 1\n",
    "    if(count == 3):\n",
    "        print(\"[\",c,\"]\")\n",
    "    elif(count == 5):\n",
    "        print(\"[\",c,\"]\")\n",
    "    elif(count == 8):\n",
    "        print(\"[\",c,\"]\")\n",
    "        \n",
    "print(\"\\nTotal Number of Letters in Your Text is : \",count)\n"
   ]
  },
  {
   "cell_type": "code",
   "execution_count": 5,
   "metadata": {},
   "outputs": [
    {
     "name": "stdout",
     "output_type": "stream",
     "text": [
      "Enter Some TEXT : i am pakistani\n",
      "[ a ]\n",
      "[   ]\n",
      "[ k ]\n",
      "\n",
      "Total Number of Letters in Your Text is :  14\n"
     ]
    }
   ],
   "source": [
    "str = input(\"Enter Some TEXT : \")\n",
    "count = 0\n",
    "for c in str:\n",
    "    count = count + 1\n",
    "    if(count == 3 or count == 5 or count == 8):\n",
    "        print(\"[\",c,\"]\")\n",
    "        \n",
    "print(\"\\nTotal Number of Letters in Your Text is : \",count)"
   ]
  },
  {
   "cell_type": "code",
   "execution_count": 15,
   "metadata": {},
   "outputs": [
    {
     "name": "stdout",
     "output_type": "stream",
     "text": [
      "Enter Some TEXT : aeiouAEIOU\n",
      "\n",
      "Total Number of Vowels in Your Text is :  10\n"
     ]
    }
   ],
   "source": [
    "str = input(\"Enter Some TEXT : \")\n",
    "count = 0\n",
    "for c in str:\n",
    "    if(c == \"a\" or c == \"A\"):\n",
    "        count = count + 1\n",
    "    elif(c == \"e\" or c == \"E\"):\n",
    "        count = count + 1\n",
    "    elif(c == \"i\" or c == \"I\"):\n",
    "        count = count + 1\n",
    "    elif(c == \"o\" or c == \"O\"):\n",
    "        count = count + 1\n",
    "    elif(c == \"u\" or c == \"U\"):\n",
    "        count = count + 1\n",
    "    \n",
    "print(\"\\nTotal Number of Vowels in Your Text is : \",count)"
   ]
  },
  {
   "cell_type": "code",
   "execution_count": null,
   "metadata": {},
   "outputs": [],
   "source": [
    "str = input(\"Enter Some TEXT : \")\n",
    "count = 0\n",
    "for c in str:\n",
    "    if(c == \"a\" or c == \"A\" or c == \"e\" or c == \"E\" or c == \"i\" or c == \"I\" or c == \"o\" or c == \"O\" or c == \"u\" or c == \"U\"):\n",
    "        count = count + 1\n",
    "    \n",
    "print(\"\\nTotal Number of Vowels in Your Text is : \",count)"
   ]
  },
  {
   "cell_type": "code",
   "execution_count": 18,
   "metadata": {},
   "outputs": [
    {
     "name": "stdout",
     "output_type": "stream",
     "text": [
      "Enter Some TEXT : aaaaaaaaa\n",
      "1\n",
      "2\n",
      "3\n",
      "4\n",
      "5\n",
      "6\n",
      "7\n",
      "8\n",
      "9\n",
      "\n",
      "Number of Vowel \"A\" in Your Text is :  9\n",
      "Number of Vowel \"E\" in Your Text is :  0\n",
      "Number of Vowel \"I\" in Your Text is :  0\n",
      "Number of Vowel \"O\" in Your Text is :  0\n",
      "Number of Vowel \"U\" in Your Text is :  0\n"
     ]
    }
   ],
   "source": [
    "str = input(\"Enter Some TEXT : \")\n",
    "a = 0\n",
    "e = 0\n",
    "i = 0\n",
    "o = 0\n",
    "u = 0\n",
    "for c in str:\n",
    "    if(c == \"a\" or c == \"A\"):\n",
    "        a = a + 1\n",
    "    elif(c == \"e\" or c == \"E\"):\n",
    "        e = e + 1\n",
    "    elif(c == \"i\" or c == \"I\"):\n",
    "        i = i + 1\n",
    "    elif(c == \"o\" or c == \"O\"):\n",
    "        o = o + 1\n",
    "    elif(c == \"u\" or c == \"U\"):\n",
    "        u = u + 1\n",
    "    \n",
    "print(\"\\nNumber of Vowel \\\"A\\\" in Your Text is : \",a)\n",
    "print(\"Number of Vowel \\\"E\\\" in Your Text is : \",e)\n",
    "print(\"Number of Vowel \\\"I\\\" in Your Text is : \",i)\n",
    "print(\"Number of Vowel \\\"O\\\" in Your Text is : \",o)\n",
    "print(\"Number of Vowel \\\"U\\\" in Your Text is : \",u)"
   ]
  },
  {
   "cell_type": "code",
   "execution_count": 12,
   "metadata": {},
   "outputs": [
    {
     "name": "stdout",
     "output_type": "stream",
     "text": [
      "Enter Some TEXT : aaaa\n",
      "Enter KEY : a\n",
      "Character  a  is on Position :  1\n",
      "Character  a  is on Position :  2\n",
      "Character  a  is on Position :  3\n",
      "Character  a  is on Position :  4\n"
     ]
    }
   ],
   "source": [
    "\n",
    "str = input(\"Enter Some TEXT : \")\n",
    "key = input(\"Enter KEY : \")\n",
    "\n",
    "count = 0\n",
    "\n",
    "for c in str:\n",
    "    count += 1\n",
    "    if(c == key):\n",
    "        print(\"Character \",key,\" is on Position : \",count)\n"
   ]
  },
  {
   "cell_type": "code",
   "execution_count": 10,
   "metadata": {},
   "outputs": [
    {
     "name": "stdout",
     "output_type": "stream",
     "text": [
      "Enter your Guess : 5\n",
      "Your Guess is  5  While the number is  10\n",
      "\n",
      "Enter your Guess : 10\n"
     ]
    }
   ],
   "source": [
    "from random import randint\n",
    "N = randint(0,10)\n",
    "guess = int(input(\"Enter your Guess : \"))\n",
    "\n",
    "while(guess != N):\n",
    "    print(\"Your Guess is \",guess,\" While the number is \",N)\n",
    "    guess = int(input(\"\\nEnter your Guess : \"))\n"
   ]
  },
  {
   "cell_type": "code",
   "execution_count": 14,
   "metadata": {},
   "outputs": [
    {
     "name": "stdout",
     "output_type": "stream",
     "text": [
      "Enter your Guess : 1\n",
      "Your Guess is  1 , is Wrong \n",
      "\n",
      "Enter your Guess : 1\n",
      "Your Guess is  1 , is Wrong \n",
      "\n",
      "Enter your Guess : 1\n",
      "Your Guess is  1 , is Wrong \n",
      "\n",
      "Enter your Guess : 1\n",
      "Your Guess is  1 , is Wrong \n",
      "\n",
      "Enter your Guess : 1\n",
      "Your Guess is  1 , is Wrong \n",
      "\n",
      "Enter your Guess : 1\n",
      "Your Guess is  1 , is Wrong \n",
      "\n",
      "Enter your Guess : 1\n",
      "Your Guess is  1 , is Wrong \n",
      "\n",
      "Enter your Guess : 1\n",
      "Your Guess is  1 , is Wrong \n",
      "\n",
      "Enter your Guess : 1\n",
      "Your Guess is  1 , is Correct\n"
     ]
    }
   ],
   "source": [
    "from random import randint\n",
    "N = randint(0,10)\n",
    "guess = int(input(\"Enter your Guess : \"))\n",
    "\n",
    "while(guess != N):\n",
    "    print(\"Your Guess is \",guess,\", is Wrong \")\n",
    "    guess = int(input(\"\\nEnter your Guess : \"))\n",
    "    N = randint(0,10)\n",
    "    \n",
    "print(\"Your Guess is \",guess,\", is Correct\")\n"
   ]
  },
  {
   "cell_type": "code",
   "execution_count": null,
   "metadata": {},
   "outputs": [
    {
     "name": "stdout",
     "output_type": "stream",
     "text": [
      "Enter your Guess : 1\n",
      "Your Guess is  1 , is Wrong \n",
      "\n",
      "Enter your Guess : 2\n",
      "Your Guess is  2 , is Wrong \n",
      "\n",
      "Enter your Guess : 3\n",
      "Your Guess is  3 , is Wrong \n",
      "\n",
      "Enter your Guess : 4\n",
      "Your Guess is  4 , is Wrong \n",
      "\n",
      "Enter your Guess : 5\n",
      "Your Guess is  5 , is Wrong \n",
      "\n",
      "Enter your Guess : 6\n",
      "Your Guess is  6 , is Wrong \n",
      "\n",
      "Enter your Guess : 1\n",
      "Your Guess is  1 , is Wrong \n",
      "\n",
      "Enter your Guess : 2\n",
      "Your Guess is  2 , is Wrong \n",
      "\n",
      "Enter your Guess : 7\n",
      "Your Guess is  7 , is Wrong \n",
      "\n",
      "Enter your Guess : 8\n",
      "Your Guess is  8 , is Wrong \n",
      "\n",
      "Enter your Guess : 9\n",
      "Your Guess is  9 , is Wrong \n",
      "\n",
      "Enter your Guess : 10\n",
      "Your Guess is  10 , is Wrong \n",
      "\n",
      "Enter your Guess : 1\n",
      "Your Guess is  1 , is Wrong \n",
      "\n",
      "Enter your Guess : 0\n",
      "Your Guess is  0 , is Wrong \n",
      "\n",
      "Enter your Guess : 1\n",
      "Your Guess is  1 , is Wrong \n",
      "\n",
      "Enter your Guess : 2\n",
      "Your Guess is  2 , is Wrong \n",
      "\n",
      "Enter your Guess : 3\n",
      "Your Guess is  3 , is Wrong \n",
      "\n",
      "Enter your Guess : 4\n",
      "Your Guess is  4 , is Wrong \n",
      "\n",
      "Enter your Guess : 5\n",
      "Your Guess is  5 , is Wrong \n",
      "\n",
      "Enter your Guess : 6\n",
      "Your Guess is  6 , is Wrong \n",
      "\n",
      "Enter your Guess : 7\n",
      "Your Guess is  7 , is Wrong \n",
      "\n",
      "Enter your Guess : 8\n",
      "Your Guess is  8 , is Wrong \n",
      "\n",
      "Enter your Guess : 9\n",
      "Your Guess is  9 , is Wrong \n",
      "\n",
      "Enter your Guess : 0\n",
      "Your Guess is  0 , is Wrong \n",
      "\n",
      "Enter your Guess : 10\n",
      "Your Guess is  10 , is Wrong \n"
     ]
    }
   ],
   "source": [
    "from random import randint\n",
    "N = randint(0,10)\n",
    "guess = int(input(\"Enter your Guess : \"))\n",
    "t = 5\n",
    "\n",
    "while(guess != N or t > 5):\n",
    "    print(\"Your Guess is \",guess,\", is Wrong \")\n",
    "    guess = int(input(\"\\nEnter your Guess : \"))\n",
    "    t = t + 1\n",
    "    \n",
    "print(\"finish\")"
   ]
  },
  {
   "cell_type": "code",
   "execution_count": 5,
   "metadata": {},
   "outputs": [
    {
     "name": "stdout",
     "output_type": "stream",
     "text": [
      "guess : 1\n",
      "\n",
      "your guess is lower\n",
      "remaing 4\n",
      "Enter another guess : 2\n",
      "\n",
      "your guess is lower\n",
      "remaing 3\n",
      "Enter another guess : 3\n",
      "\n",
      "your guess is lower\n",
      "remaing 2\n",
      "Enter another guess : 4\n",
      "\n",
      "your guess is lower\n",
      "remaing 1\n",
      "Enter another guess : 5\n",
      "\n",
      "your guess is lower\n",
      "remaing 0\n",
      "Enter another guess : 6\n",
      "\n",
      "your guess is lower\n",
      "remaing -1\n",
      "Enter another guess : 6\n",
      "\n",
      "your guess is lower\n",
      "remaing -2\n",
      "Enter another guess : \n"
     ]
    },
    {
     "ename": "ValueError",
     "evalue": "invalid literal for int() with base 10: ''",
     "output_type": "error",
     "traceback": [
      "\u001b[1;31m---------------------------------------------------------------------------\u001b[0m",
      "\u001b[1;31mValueError\u001b[0m                                Traceback (most recent call last)",
      "\u001b[1;32m<ipython-input-5-7db7ea6d8287>\u001b[0m in \u001b[0;36m<module>\u001b[1;34m()\u001b[0m\n\u001b[0;32m     14\u001b[0m         \u001b[0mprint\u001b[0m\u001b[1;33m(\u001b[0m\u001b[1;34m\"\\nyour guess is lower\"\u001b[0m\u001b[1;33m)\u001b[0m\u001b[1;33m\u001b[0m\u001b[0m\n\u001b[0;32m     15\u001b[0m         \u001b[0mprint\u001b[0m\u001b[1;33m(\u001b[0m\u001b[1;34m\"remaing\"\u001b[0m\u001b[1;33m,\u001b[0m \u001b[0mremain\u001b[0m\u001b[1;33m)\u001b[0m\u001b[1;33m\u001b[0m\u001b[0m\n\u001b[1;32m---> 16\u001b[1;33m         \u001b[0mn\u001b[0m \u001b[1;33m=\u001b[0m \u001b[0mint\u001b[0m\u001b[1;33m(\u001b[0m\u001b[0minput\u001b[0m\u001b[1;33m(\u001b[0m\u001b[1;34m\"Enter another guess : \"\u001b[0m\u001b[1;33m)\u001b[0m\u001b[1;33m)\u001b[0m\u001b[1;33m\u001b[0m\u001b[0m\n\u001b[0m\u001b[0;32m     17\u001b[0m \u001b[1;33m\u001b[0m\u001b[0m\n\u001b[0;32m     18\u001b[0m \u001b[1;32mif\u001b[0m \u001b[1;33m(\u001b[0m\u001b[0mn\u001b[0m \u001b[1;33m==\u001b[0m \u001b[0ma\u001b[0m\u001b[1;33m)\u001b[0m\u001b[1;33m:\u001b[0m\u001b[1;33m\u001b[0m\u001b[0m\n",
      "\u001b[1;31mValueError\u001b[0m: invalid literal for int() with base 10: ''"
     ]
    }
   ],
   "source": [
    "from random import randint\n",
    "n = int(input(\"guess : \"))\n",
    "a = randint(1,100)\n",
    "count = 0\n",
    "remain = 0\n",
    "while( n != a or count < 5 ):\n",
    "    count = count + 1\n",
    "    remain = 5 - count\n",
    "    if (n > a):\n",
    "        print(\"\\nyour guess is higher\")\n",
    "        print(\"remaing\", remain)\n",
    "        n = int(input(\"Enter another guess : \"))\n",
    "    elif (n < a):\n",
    "        print(\"\\nyour guess is lower\")\n",
    "        print(\"remaing\", remain)\n",
    "        n = int(input(\"Enter another guess : \"))\n",
    "    \n",
    "if (n == a):\n",
    "    print(\"guess is correct\")\n",
    "elif (n != a):\n",
    "    print(\"guess is incorrect\")\n",
    "    \n",
    "print(n)\n",
    "    "
   ]
  },
  {
   "cell_type": "code",
   "execution_count": null,
   "metadata": {},
   "outputs": [],
   "source": [
    "from random import randint\n",
    "a = randint(0,10)\n",
    "n = int(input(\"Enter another guess : \"))\n",
    "count = 0\n",
    "remain = 5\n",
    "\n",
    "while(a != n or count > 5):\n",
    "    count = count + 1\n",
    "    remain = 5 - count\n",
    "    if (n > a):\n",
    "        print(\"\\nyour guess is higher\")\n",
    "        print(\"remaing\", remain)\n",
    "        n = int(input(\"Enter another guess : \"))\n",
    "    elif (n < a):\n",
    "        n = int(input(\"Enter another guess : \"))\n",
    "        print(\"\\nyour guess is lower\")\n",
    "        print(\"remaing\", remain)\n",
    "    \n",
    "if (n == a):\n",
    "    print(\"guess is correct\")\n",
    "elif (n != a):\n",
    "    print(\"guess is incorrect\")"
   ]
  },
  {
   "cell_type": "code",
   "execution_count": null,
   "metadata": {},
   "outputs": [],
   "source": []
  }
 ],
 "metadata": {
  "kernelspec": {
   "display_name": "Python 3",
   "language": "python",
   "name": "python3"
  },
  "language_info": {
   "codemirror_mode": {
    "name": "ipython",
    "version": 3
   },
   "file_extension": ".py",
   "mimetype": "text/x-python",
   "name": "python",
   "nbconvert_exporter": "python",
   "pygments_lexer": "ipython3",
   "version": "3.7.0"
  }
 },
 "nbformat": 4,
 "nbformat_minor": 2
}
