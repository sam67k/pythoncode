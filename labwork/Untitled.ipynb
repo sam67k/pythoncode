{
 "cells": [
  {
   "cell_type": "code",
   "execution_count": 1,
   "metadata": {},
   "outputs": [
    {
     "ename": "NameError",
     "evalue": "name 'temperature' is not defined",
     "output_type": "error",
     "traceback": [
      "\u001b[1;31m---------------------------------------------------------------------------\u001b[0m",
      "\u001b[1;31mNameError\u001b[0m                                 Traceback (most recent call last)",
      "\u001b[1;32m<ipython-input-1-a32db912f5f8>\u001b[0m in \u001b[0;36m<module>\u001b[1;34m()\u001b[0m\n\u001b[0;32m     19\u001b[0m     \u001b[0mprint\u001b[0m\u001b[1;33m(\u001b[0m\u001b[1;34m\"\\n                          \\\"Thanks for using my Software  ( @sam67k | @k67sam )\\\"\"\u001b[0m\u001b[1;33m)\u001b[0m\u001b[1;33m\u001b[0m\u001b[0m\n\u001b[0;32m     20\u001b[0m \u001b[1;33m\u001b[0m\u001b[0m\n\u001b[1;32m---> 21\u001b[1;33m \u001b[0mtemperature\u001b[0m\u001b[1;33m(\u001b[0m\u001b[1;33m)\u001b[0m\u001b[1;33m\u001b[0m\u001b[0m\n\u001b[0m",
      "\u001b[1;31mNameError\u001b[0m: name 'temperature' is not defined"
     ]
    }
   ],
   "source": [
    "def temperture():\n",
    "    c = float(input(\"Enter the Temperature in Celsius : \"))\n",
    "    f = (c) * (9/5) + 32\n",
    "    k = c + 273\n",
    "    print(\"\\n\\n\\n\\n\\n\")\n",
    "    print(\"Temperature in Celsius (°C)       :\\t\",c,\"°\")\n",
    "    print(\"Temperature in Farhrenheit (°F)   :\\t\",f,\"°\")\n",
    "    print(\"Temperature in Kelvin (K)         :\\t\",k)\n",
    "    print(\"\\n\\n\\n\\n\")\n",
    "    print(\"|...................................................................................................|\")\n",
    "    print(\"|                                \\\"Your given Temperature in all Units\\\"                              |\")\n",
    "    print(\"|___________________________________________________________________________________________________|\")\n",
    "    print(\"|\\t\\t \\\"°C\\\"\\t\\t  |\\t\\t\\\"°F\\\"\\t\\t    |\\t\\t\\\"K\\\"\\t\\t    |\")\n",
    "    print(\"|---------------------------------------------------------------------------------------------------|\\n\")\n",
    "    print(\"                \",c,\"°                        \",f,\"°                       \",k,)\n",
    "    print(\"|___________________________________________________________________________________________________|\")\n",
    "    print(\"|...................................................................................................|\")\n",
    "    print(\"\\n#####################################################################################################\")\n",
    "    print(\"\\n                          \\\"Thanks for using my Software  ( @sam67k | @k67sam )\\\"\")\n",
    "    \n"
   ]
  },
  {
   "cell_type": "code",
   "execution_count": null,
   "metadata": {},
   "outputs": [],
   "source": []
  }
 ],
 "metadata": {
  "kernelspec": {
   "display_name": "Python 3",
   "language": "python",
   "name": "python3"
  },
  "language_info": {
   "codemirror_mode": {
    "name": "ipython",
    "version": 3
   },
   "file_extension": ".py",
   "mimetype": "text/x-python",
   "name": "python",
   "nbconvert_exporter": "python",
   "pygments_lexer": "ipython3",
   "version": "3.6.5"
  }
 },
 "nbformat": 4,
 "nbformat_minor": 2
}
