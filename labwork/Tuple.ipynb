{
 "cells": [
  {
   "cell_type": "code",
   "execution_count": 9,
   "metadata": {},
   "outputs": [
    {
     "name": "stdout",
     "output_type": "stream",
     "text": [
      "The List :  [1, 2, 3, 4, 5, 6, 7]\n",
      "The Tuple :  (1, 2, 3, 4, 5, 6, 7)\n",
      "The first Element in List :  1\n",
      "The first Element in Tuple :  1\n",
      "All the elements in List : 1 2 3 4 5 6 7 \n",
      "All the elements in Tuple : 1 2 3 4 5 6 7 \n",
      "List Slice :  [3, 4, 5]\n",
      "Tuple Slice :  (3, 4, 5)\n",
      "Ty to modify the first element in List.....\n",
      "The List :  [9, 2, 3, 4, 5, 6, 7]\n",
      "Ty to modify the first element in Tuple.....\n"
     ]
    },
    {
     "ename": "TypeError",
     "evalue": "'tuple' object does not support item assignment",
     "output_type": "error",
     "traceback": [
      "\u001b[1;31m---------------------------------------------------------------------------\u001b[0m",
      "\u001b[1;31mTypeError\u001b[0m                                 Traceback (most recent call last)",
      "\u001b[1;32m<ipython-input-9-1cc05b6ffbb1>\u001b[0m in \u001b[0;36m<module>\u001b[1;34m()\u001b[0m\n\u001b[0;32m     25\u001b[0m \u001b[1;33m\u001b[0m\u001b[0m\n\u001b[0;32m     26\u001b[0m \u001b[0mprint\u001b[0m\u001b[1;33m(\u001b[0m\u001b[1;34m\"Ty to modify the first element in Tuple.....\"\u001b[0m\u001b[1;33m)\u001b[0m\u001b[1;33m\u001b[0m\u001b[0m\n\u001b[1;32m---> 27\u001b[1;33m \u001b[0mTuple\u001b[0m\u001b[1;33m[\u001b[0m\u001b[1;36m0\u001b[0m\u001b[1;33m]\u001b[0m \u001b[1;33m=\u001b[0m \u001b[1;36m9\u001b[0m\u001b[1;33m\u001b[0m\u001b[0m\n\u001b[0m\u001b[0;32m     28\u001b[0m \u001b[0mprint\u001b[0m\u001b[1;33m(\u001b[0m\u001b[1;34m\"The List : \"\u001b[0m\u001b[1;33m,\u001b[0m\u001b[0mTuple\u001b[0m\u001b[1;33m)\u001b[0m\u001b[1;33m\u001b[0m\u001b[0m\n",
      "\u001b[1;31mTypeError\u001b[0m: 'tuple' object does not support item assignment"
     ]
    }
   ],
   "source": [
    "\n",
    "List = [1,2,3,4,5,6,7]\n",
    "Tuple = (1,2,3,4,5,6,7)\n",
    "\n",
    "print(\"The List : \", List)\n",
    "print(\"The Tuple : \", Tuple)\n",
    "\n",
    "print(\"The first Element in List : \",List[0])\n",
    "print(\"The first Element in Tuple : \",Tuple[0])\n",
    "\n",
    "print(\"All the elements in List : \",end=\"\")\n",
    "for elm in List:\n",
    "    print(elm,end=\" \")\n",
    "    \n",
    "print(\"\\nAll the elements in Tuple : \",end=\"\")\n",
    "for elm in Tuple:\n",
    "    print(elm,end=\" \")\n",
    "    \n",
    "print(\"\\nList Slice : \",List[2:5])\n",
    "print(\"Tuple Slice : \",Tuple[2:5])\n",
    "\n",
    "print(\"Ty to modify the first element in List.....\")\n",
    "List[0] = 9\n",
    "print(\"The List : \",List)\n",
    "\n",
    "print(\"Ty to modify the first element in Tuple.....\")\n",
    "Tuple[0] = 9\n",
    "print(\"The List : \",Tuple)\n"
   ]
  },
  {
   "cell_type": "code",
   "execution_count": 17,
   "metadata": {},
   "outputs": [
    {
     "name": "stdout",
     "output_type": "stream",
     "text": [
      "(3, 'A', 99)\n",
      "<class 'tuple'>\n",
      "Val :  3 \t Type :  <class 'int'>\n",
      "Val :  A \t Type :  <class 'str'>\n",
      "Val :  99 \t Type :  <class 'int'>\n",
      "Val =  3 \tletter =  A \tQuant =  99\n",
      "type of Val =  <class 'int'>\n",
      "type of letter =  <class 'str'>\n",
      "type of quant =  <class 'int'>\n"
     ]
    }
   ],
   "source": [
    "t = 3 ,\"A\" ,99\n",
    "\n",
    "print(t)\n",
    "print(type(t))\n",
    "\n",
    "v1, v2, v3 = 23, 56, 34\n",
    "\n",
    "val, letter, quant = t\n",
    "\n",
    "print(\"Val : \",val,\"\\t Type : \",type(val))\n",
    "print(\"Val : \",letter,\"\\t Type : \",type(letter))\n",
    "print(\"Val : \",quant,\"\\t Type : \",type(quant))\n",
    "\n",
    "print(\"Val = \",val,\"\\tletter = \",letter,\"\\tQuant = \",quant)\n",
    "print(\"type of Val = \",type(val))\n",
    "print(\"type of letter = \",type(letter))\n",
    "print(\"type of quant = \",type(quant))"
   ]
  },
  {
   "cell_type": "code",
   "execution_count": 19,
   "metadata": {},
   "outputs": [
    {
     "name": "stdout",
     "output_type": "stream",
     "text": [
      "Val =  0 \tletter =  A \tquant =  16 \trating =  42\n"
     ]
    }
   ],
   "source": [
    "t = 3, \"A\", 99, 16, 0, 42\n",
    "_, letter, _, quant, val, rating = t\n",
    "print(\"Val = \",val,\"\\tletter = \",letter,\"\\tquant = \",quant,\"\\trating = \",rating)"
   ]
  },
  {
   "cell_type": "code",
   "execution_count": 22,
   "metadata": {},
   "outputs": [
    {
     "name": "stdout",
     "output_type": "stream",
     "text": [
      "Tuple :  (1, 2, 3, 4, 5, 6, 7, 8)\n",
      "Tuple to List :  [1, 2, 3, 4, 5, 6, 7, 8]\n",
      "New List :  [1, 2, 3, 4, 5, 6, 7, 8]\n",
      "List :  ['a', 'b', 'c', 'd']\n",
      "List to Tuple :  ('a', 'b', 'c', 'd')\n",
      "New Tuple :  ('a', 'b', 'c', 'd')\n"
     ]
    }
   ],
   "source": [
    "\n",
    "tpl = 1, 2, 3, 4, 5, 6, 7, 8\n",
    "print(\"Tuple : \",tpl)\n",
    "print(\"Tuple to List : \",list(tpl))\n",
    "newList = list(tpl)\n",
    "print(\"New List : \", newList)\n",
    "lst = ['a','b','c','d']\n",
    "print(\"List : \",lst)\n",
    "print(\"List to Tuple : \",tuple(lst))\n",
    "newTuple = tuple(lst)\n",
    "print(\"New Tuple : \",newTuple)"
   ]
  },
  {
   "cell_type": "code",
   "execution_count": 26,
   "metadata": {},
   "outputs": [
    {
     "name": "stdout",
     "output_type": "stream",
     "text": [
      "(1, 'a', 'ABC')\n",
      "(2, 'b', 'CDE')\n",
      "(3, 'c', 'EFG')\n",
      "(4, 'd', 'HIJ')\n",
      "(5, 'e', 'KLM')\n",
      "(6, 'f', 'NOP')\n",
      "(7, 'g', 'QRS')\n",
      "(1, 'a', 'ABC', 2, 'b', 'CDE', 3, 'c', 'EFG', 4, 'd', 'HIJ', 5, 'e', 'KLM', 6, 'f', 'NOP', 7, 'g', 'QRS')\n"
     ]
    }
   ],
   "source": [
    "\n",
    "lst1 = [1,2,3,4,5,6,7,8]\n",
    "lst2 = ['a','b','c','d','e','f','g','h','i','j']\n",
    "lst3 = ['ABC','CDE','EFG','HIJ','KLM','NOP','QRS']\n",
    "\n",
    "myTpl = ()\n",
    "\n",
    "for t in zip(lst1,lst2,lst3):\n",
    "    print(t)\n",
    "    myTpl += t\n",
    "    \n",
    "print(myTpl)\n"
   ]
  },
  {
   "cell_type": "code",
   "execution_count": null,
   "metadata": {},
   "outputs": [],
   "source": []
  }
 ],
 "metadata": {
  "kernelspec": {
   "display_name": "Python 3",
   "language": "python",
   "name": "python3"
  },
  "language_info": {
   "codemirror_mode": {
    "name": "ipython",
    "version": 3
   },
   "file_extension": ".py",
   "mimetype": "text/x-python",
   "name": "python",
   "nbconvert_exporter": "python",
   "pygments_lexer": "ipython3",
   "version": "3.7.0"
  }
 },
 "nbformat": 4,
 "nbformat_minor": 2
}
