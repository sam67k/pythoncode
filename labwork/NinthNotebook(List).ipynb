{
 "cells": [
  {
   "cell_type": "code",
   "execution_count": 5,
   "metadata": {},
   "outputs": [
    {
     "name": "stdout",
     "output_type": "stream",
     "text": [
      "The list elements are [56, 67, 43, 58, 39]\n"
     ]
    }
   ],
   "source": [
    "scores = [56, 67, 43, 58, 39]\n",
    "print(\"The list elements are\", scores)"
   ]
  },
  {
   "cell_type": "code",
   "execution_count": 54,
   "metadata": {},
   "outputs": [
    {
     "name": "stdout",
     "output_type": "stream",
     "text": [
      "Names\tMarks\tGPA\n",
      "Ali\t90\t4.0\n",
      "Shahid\t60\t2.0\n",
      "Kaleem\t70\t2.5\n",
      "Sidra\t80\t3.5\n"
     ]
    }
   ],
   "source": [
    "Names = ['Ali','Shahid','Kaleem','Sidra']\n",
    "Marks = [90,60,70,80]\n",
    "GPA = [4.0,2.0,2.5,3.5]\n",
    "\n",
    "print('Names\\tMarks\\tGPA')\n",
    "\n",
    "for i in range(4):\n",
    "    print(Names[i],Marks[i],GPA[i],sep='\\t')"
   ]
  },
  {
   "cell_type": "code",
   "execution_count": 55,
   "metadata": {},
   "outputs": [
    {
     "name": "stdout",
     "output_type": "stream",
     "text": [
      "Names\tMarks\tGPA\n",
      "Sidra\t80\t3.5\n",
      "Kaleem\t70\t2.5\n",
      "Shahid\t60\t2.0\n",
      "Ali\t90\t4.0\n"
     ]
    }
   ],
   "source": [
    "Names = ['Ali','Shahid','Kaleem','Sidra']\n",
    "Marks = [90,60,70,80]\n",
    "GPA = [4.0,2.0,2.5,3.5]\n",
    "\n",
    "print('Names\\tMarks\\tGPA')\n",
    "\n",
    "for i in range(4):\n",
    "    print(Names[3-i],Marks[3-i],GPA[3-i],sep='\\t')"
   ]
  },
  {
   "cell_type": "code",
   "execution_count": 80,
   "metadata": {},
   "outputs": [
    {
     "name": "stdout",
     "output_type": "stream",
     "text": [
      "Ali\t90\t4.0\n",
      "Shah\t60\t2.0\n",
      "Zia\t70\t2.5\n",
      "Sidra\t80\t3.5\n"
     ]
    }
   ],
   "source": [
    "stData = ['Ali',90,4.0,'Shah',60,2.0,'Zia',70,2.5,'Sidra',80,3.5]\n",
    "\n",
    "for i in range(0,12,3):\n",
    "    print(stData[i] ,stData[i+1], stData[i+2], sep='\\t')"
   ]
  },
  {
   "cell_type": "code",
   "execution_count": 83,
   "metadata": {},
   "outputs": [
    {
     "name": "stdout",
     "output_type": "stream",
     "text": [
      "Ali \t90 \t4.0\n",
      "Shah \t60 \t2.0\n",
      "Zia \t70 \t2.5\n",
      "Sidra \t80 \t3.5\n"
     ]
    }
   ],
   "source": [
    "stData = ['Ali',90,4.0,'Shah',60,2.0,'Zia',70,2.5,'Sidra',80,3.5]\n",
    "\n",
    "count = 0\n",
    "\n",
    "for i in range(12):\n",
    "    count += 1\n",
    "    if count == 3:\n",
    "        print(stData[i])\n",
    "        count = 0\n",
    "    else:\n",
    "        print(stData[i],\"\\t\", end='')"
   ]
  },
  {
   "cell_type": "code",
   "execution_count": null,
   "metadata": {},
   "outputs": [],
   "source": []
  }
 ],
 "metadata": {
  "kernelspec": {
   "display_name": "Python 3",
   "language": "python",
   "name": "python3"
  },
  "language_info": {
   "codemirror_mode": {
    "name": "ipython",
    "version": 3
   },
   "file_extension": ".py",
   "mimetype": "text/x-python",
   "name": "python",
   "nbconvert_exporter": "python",
   "pygments_lexer": "ipython3",
   "version": "3.7.0"
  }
 },
 "nbformat": 4,
 "nbformat_minor": 2
}
