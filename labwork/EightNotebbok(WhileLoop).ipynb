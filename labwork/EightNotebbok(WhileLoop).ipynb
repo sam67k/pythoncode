{
 "cells": [
  {
   "cell_type": "code",
   "execution_count": 7,
   "metadata": {},
   "outputs": [
    {
     "name": "stdout",
     "output_type": "stream",
     "text": [
      "Enter a Number : 13592678\n",
      "41\n"
     ]
    }
   ],
   "source": [
    "\n",
    "N = int(input(\"Enter a Number : \"))\n",
    "\n",
    "Sum = 0\n",
    "\n",
    "while( N >= 10 ):\n",
    "    R = N % 10\n",
    "    N = N // 10\n",
    "    Sum = Sum + R\n",
    "    \n",
    "Sum = Sum + N\n",
    "\n",
    "print(Sum)\n"
   ]
  },
  {
   "cell_type": "code",
   "execution_count": 3,
   "metadata": {},
   "outputs": [
    {
     "name": "stdout",
     "output_type": "stream",
     "text": [
      "Salary of Adnan : 100\n",
      "Increse Rate of Adnan : 10\n",
      "Salary of Basit : 50\n",
      "Increse Rate of Basit : 20\n",
      "\n",
      "\n",
      "Your Values are correct\n",
      "\n",
      "\n",
      "Salary of Adnan will increse from Basit in 8 Years\n"
     ]
    }
   ],
   "source": [
    "\n",
    "s1 = int(input(\"Salary of Adnan : \"))\n",
    "r1 = int(input(\"Increse Rate of Adnan : \"))\n",
    "s2 = int(input(\"Salary of Basit : \"))\n",
    "r2 = int(input(\"Increse Rate of Basit : \"))\n",
    "\n",
    "while(s1 < s2 or r1 > r2):\n",
    "    s1 = int(input(\"\\nSalary of Adnan : \"))\n",
    "    r1 = int(input(\"Increse Rate of Adnan : \"))\n",
    "    s2 = int(input(\"Salary of Basit : \"))\n",
    "    r2 = int(input(\"Increse Rate of Basit : \"))\n",
    "\n",
    "print(\"\\n\\nYour Values are correct\")\n",
    "\n",
    "years = 0\n",
    "\n",
    "while(s1 > s2):\n",
    "    years += 1\n",
    "    s1 = s1 + (s1*(r1*0.01))\n",
    "    s2 = s2 + (s2*(r2*0.01))\n",
    "    \n",
    "print(\"\\n\\nSalary of Adnan will increse from Basit in\", years,\"Years\")\n",
    "\n"
   ]
  },
  {
   "cell_type": "code",
   "execution_count": null,
   "metadata": {},
   "outputs": [],
   "source": []
  },
  {
   "cell_type": "code",
   "execution_count": null,
   "metadata": {},
   "outputs": [],
   "source": []
  }
 ],
 "metadata": {
  "kernelspec": {
   "display_name": "Python 3",
   "language": "python",
   "name": "python3"
  },
  "language_info": {
   "codemirror_mode": {
    "name": "ipython",
    "version": 3
   },
   "file_extension": ".py",
   "mimetype": "text/x-python",
   "name": "python",
   "nbconvert_exporter": "python",
   "pygments_lexer": "ipython3",
   "version": "3.6.5"
  }
 },
 "nbformat": 4,
 "nbformat_minor": 2
}
