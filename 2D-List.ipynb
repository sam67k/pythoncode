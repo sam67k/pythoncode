{
 "cells": [
  {
   "cell_type": "code",
   "execution_count": 25,
   "metadata": {},
   "outputs": [
    {
     "name": "stdout",
     "output_type": "stream",
     "text": [
      "1  2  3  \n",
      "4  5  6  \n",
      "7  8  9  \n",
      "45\n"
     ]
    }
   ],
   "source": [
    "matrix = [[1,2,3],[4,5,6],[7,8,9]]\n",
    "\n",
    "Sum = 0\n",
    "\n",
    "for row in range(3):\n",
    "    for col in range(3):\n",
    "        print(matrix[row][col],end=\"  \")\n",
    "        Sum = Sum + matrix[row][col]\n",
    "    print()\n",
    "    \n",
    "print(Sum)\n"
   ]
  },
  {
   "cell_type": "code",
   "execution_count": 9,
   "metadata": {},
   "outputs": [
    {
     "name": "stdout",
     "output_type": "stream",
     "text": [
      "1  2  3  \n",
      "4  5  6  \n",
      "7  8  9  \n"
     ]
    }
   ],
   "source": [
    "matrix = [[1,2,3],[4,5,6],[7,8,9]]\n",
    "\n",
    "for row in range(3):\n",
    "    for col in range(3):\n",
    "        print(matrix[row][col],end=\"  \")\n",
    "    print()\n"
   ]
  },
  {
   "cell_type": "code",
   "execution_count": 19,
   "metadata": {},
   "outputs": [
    {
     "name": "stdout",
     "output_type": "stream",
     "text": [
      "| 0  0  0  0  0  |\n",
      "| 0  1  2  3  0  |\n",
      "| 0  4  5  6  0  |\n",
      "| 0  7  8  9  0  |\n",
      "| 0  0  0  0  0  |\n"
     ]
    }
   ],
   "source": [
    "matrix = [[0,0,0,0,0],[0,1,2,3,0],[0,4,5,6,0],[0,7,8,9,0],[0,0,0,0,0]]\n",
    "\n",
    "for row in range(5):\n",
    "    print(\"| \",end='')\n",
    "    for col in range(5):\n",
    "        print(matrix[row][col],\" \",end='')\n",
    "    print(\"|\")\n"
   ]
  },
  {
   "cell_type": "code",
   "execution_count": 31,
   "metadata": {},
   "outputs": [
    {
     "name": "stdout",
     "output_type": "stream",
     "text": [
      "Sum of Row- 0  :  6\n",
      "Sum of Row- 1  :  15\n",
      "Sum of Row- 2  :  24\n"
     ]
    }
   ],
   "source": [
    "matrix = [[1,2,3],[4,5,6],[7,8,9]]\n",
    "\n",
    "Sum_of_Rows = 0\n",
    "\n",
    "for row in range(3):\n",
    "    for col in range(3):\n",
    "        Sum_of_Rows = Sum_of_Rows + matrix[row][col]\n",
    "    print(\"Sum of Row-\",row,\" : \",Sum_of_Rows)\n",
    "    Sum_of_Rows = 0\n"
   ]
  },
  {
   "cell_type": "code",
   "execution_count": 35,
   "metadata": {},
   "outputs": [
    {
     "name": "stdout",
     "output_type": "stream",
     "text": [
      "Sum of Col- 0  :  12\n",
      "Sum of Col- 1  :  15\n",
      "Sum of Col- 2  :  18\n"
     ]
    }
   ],
   "source": [
    "matrix = [[1,2,3],[4,5,6],[7,8,9]]\n",
    "\n",
    "Sum_of_Col = 0\n",
    "\n",
    "for col in range(3):\n",
    "    for row in range(3):\n",
    "        Sum_of_Col = Sum_of_Col + matrix[row][col]\n",
    "    print(\"Sum of Col-\",col,\" : \",Sum_of_Col)\n",
    "    Sum_of_Col = 0\n"
   ]
  },
  {
   "cell_type": "code",
   "execution_count": 37,
   "metadata": {},
   "outputs": [
    {
     "name": "stdout",
     "output_type": "stream",
     "text": [
      "Sum of Col- 2  :  12\n",
      "Sum of Col- 2  :  15\n",
      "Sum of Col- 2  :  18\n"
     ]
    }
   ],
   "source": [
    "matrix = [[1,2,3],[4,5,6],[7,8,9]]\n",
    "\n",
    "Sum_of_Col = 0\n",
    "\n",
    "for row in range(3):\n",
    "    for col in range(3):\n",
    "        Sum_of_Col = Sum_of_Col + matrix[col][row]\n",
    "    print(\"Sum of Col-\",col,\" : \",Sum_of_Col)\n",
    "    Sum_of_Col = 0\n"
   ]
  },
  {
   "cell_type": "code",
   "execution_count": 41,
   "metadata": {},
   "outputs": [
    {
     "name": "stdout",
     "output_type": "stream",
     "text": [
      "Sum of Col- 1  :  0\n",
      "Sum of Col- 2  :  12\n",
      "Sum of Col- 3  :  15\n",
      "Sum of Col- 4  :  18\n",
      "Sum of Col- 5  :  0\n"
     ]
    }
   ],
   "source": [
    "matrix = [[0,0,0,0,0],[0,1,2,3,0],[0,4,5,6,0],[0,7,8,9,0],[0,0,0,0,0]]\n",
    "\n",
    "Sum_of_Col = 0\n",
    "num = 0\n",
    "\n",
    "for row in range(5):\n",
    "    num += 1\n",
    "    for col in range(5):\n",
    "        Sum_of_Col = Sum_of_Col + matrix[col][row]\n",
    "    print(\"Sum of Col-\",num,\" : \",Sum_of_Col)\n",
    "    Sum_of_Col = 0"
   ]
  },
  {
   "cell_type": "code",
   "execution_count": 42,
   "metadata": {},
   "outputs": [
    {
     "name": "stdout",
     "output_type": "stream",
     "text": [
      "Sum of Col- 1  :  12\n",
      "Sum of Col- 2  :  15\n",
      "Sum of Col- 3  :  18\n"
     ]
    }
   ],
   "source": [
    "matrix = [[1,2,3],[4,5,6],[7,8,9]]\n",
    "\n",
    "Sum_of_Col = 0\n",
    "num = 0\n",
    "\n",
    "for row in range(3):\n",
    "    num += 1\n",
    "    for col in range(3):\n",
    "        Sum_of_Col = Sum_of_Col + matrix[col][row]\n",
    "    print(\"Sum of Col-\",num,\" : \",Sum_of_Col)\n",
    "    Sum_of_Col = 0\n"
   ]
  },
  {
   "cell_type": "code",
   "execution_count": 44,
   "metadata": {},
   "outputs": [
    {
     "name": "stdout",
     "output_type": "stream",
     "text": [
      "Sum of Diag- :  15\n"
     ]
    }
   ],
   "source": [
    "matrix = [[1,2,3],[4,5,6],[7,8,9]]\n",
    "\n",
    "Sum_of_Diag = 0\n",
    "\n",
    "for row in range(3):\n",
    "    for col in range(3):\n",
    "        if(row == col):\n",
    "            Sum_of_Diag = Sum_of_Diag + matrix[row][col]\n",
    "    \n",
    "print(\"Sum of Diag- : \",Sum_of_Diag)\n"
   ]
  },
  {
   "cell_type": "code",
   "execution_count": 56,
   "metadata": {},
   "outputs": [
    {
     "name": "stdout",
     "output_type": "stream",
     "text": [
      "[[3, 2, 1], [6, 5, 4], [9, 8, 7]]\n",
      "Sum of Diag- :  15\n"
     ]
    }
   ],
   "source": [
    "matrix = [[1,2,3],[4,5,6],[7,8,9]]\n",
    "List = [[matrix[0][2],matrix[0][1],matrix[0][0]],[matrix[1][2],matrix[1][1],matrix[1][0]],[matrix[2][2],matrix[2][1],matrix[2][0]]]\n",
    "print(List)\n",
    "\n",
    "Sum_of_Diag = 0\n",
    "\n",
    "for row in range(3):\n",
    "    for col in range(3):\n",
    "        if(row == col):\n",
    "            Sum_of_Diag = Sum_of_Diag + List[row][col]\n",
    "\n",
    "print(\"Sum of Diag- : \",Sum_of_Diag)\n"
   ]
  },
  {
   "cell_type": "code",
   "execution_count": 2,
   "metadata": {},
   "outputs": [
    {
     "name": "stdout",
     "output_type": "stream",
     "text": [
      "[[7, 8, 9], [4, 5, 6], [1, 2, 3]]\n",
      "Sum of Diag- :  15\n"
     ]
    }
   ],
   "source": [
    "matrix = [[1,2,3],[4,5,6],[7,8,9]]\n",
    "matrix.reverse()\n",
    "print(matrix)\n",
    "\n",
    "Sum_of_Diag = 0\n",
    "\n",
    "for row in range(3):\n",
    "    for col in range(3):\n",
    "        if(row == col):\n",
    "            Sum_of_Diag = Sum_of_Diag + matrix[row][col]\n",
    "\n",
    "print(\"Sum of Diag- : \",Sum_of_Diag)\n"
   ]
  },
  {
   "cell_type": "code",
   "execution_count": 1,
   "metadata": {},
   "outputs": [
    {
     "name": "stdout",
     "output_type": "stream",
     "text": [
      "\n",
      "Sum of Row-0 : 6\n",
      "\n",
      "Sum of Col-1 : 12\n",
      "\n",
      "Sum of Row-1 : 15\n",
      "\n",
      "Sum of Col-2 : 15\n",
      "\n",
      "Sum of Row-2 : 24\n",
      "\n",
      "Sum of Col-3 : 18\n",
      "\n",
      "Sum of Diag-1 :  15\n",
      "\n",
      "Sum of Diag-2 :  15\n"
     ]
    }
   ],
   "source": [
    "matrix = [[1,2,3],[4,5,6],[7,8,9]]\n",
    "\n",
    "Sum_of_Rows = 0\n",
    "Sum_of_Col = 0\n",
    "num = 0\n",
    "Sum_of_Diag1 = 0\n",
    "Sum_of_Diag2 = 0\n",
    "\n",
    "for row in range(3):\n",
    "    num += 1\n",
    "    for col in range(3):\n",
    "        Sum_of_Rows = Sum_of_Rows + matrix[row][col]\n",
    "        Sum_of_Col = Sum_of_Col + matrix[col][row]\n",
    "        if(row == col):\n",
    "            Sum_of_Diag1 = Sum_of_Diag1 + matrix[row][col]\n",
    "        matrix.reverse()\n",
    "        if(row == col):\n",
    "            Sum_of_Diag2 = Sum_of_Diag2 + matrix[row][col]\n",
    "        matrix.reverse()\n",
    "    print(\"\\nSum of Row-\",row,\" : \",Sum_of_Rows,sep='')\n",
    "    Sum_of_Rows = 0\n",
    "    print(\"\\nSum of Col-\",num,\" : \",Sum_of_Col,sep='')\n",
    "    Sum_of_Col = 0\n",
    "        \n",
    "\n",
    "print(\"\\nSum of Diag-1 : \",Sum_of_Diag1)\n",
    "print(\"\\nSum of Diag-2 : \",Sum_of_Diag2)\n"
   ]
  },
  {
   "cell_type": "code",
   "execution_count": 2,
   "metadata": {},
   "outputs": [
    {
     "name": "stdout",
     "output_type": "stream",
     "text": [
      "\n",
      "Sum of Row-0 : 16\n",
      "\n",
      "Sum of Col-1 : 15\n",
      "\n",
      "Sum of Row-1 : 15\n",
      "\n",
      "Sum of Col-2 : 20\n",
      "\n",
      "Sum of Row-2 : 24\n",
      "\n",
      "Sum of Col-3 : 20\n",
      "\n",
      "Sum of Diag-1 :  18\n",
      "\n",
      "Sum of Diag-2 :  17\n"
     ]
    }
   ],
   "source": [
    "matrix = [[4,7,5],[4,5,6],[7,8,9]]\n",
    "\n",
    "Sum_of_Rows = 0\n",
    "Sum_of_Col = 0\n",
    "num = 0\n",
    "Sum_of_Diag1 = 0\n",
    "Sum_of_Diag2 = 0\n",
    "\n",
    "for row in range(3):\n",
    "    num += 1\n",
    "    for col in range(3):\n",
    "        Sum_of_Rows = Sum_of_Rows + matrix[row][col]\n",
    "        Sum_of_Col = Sum_of_Col + matrix[col][row]\n",
    "        if(row == col):\n",
    "            Sum_of_Diag1 = Sum_of_Diag1 + matrix[row][col]\n",
    "        matrix.reverse()\n",
    "        if(row == col):\n",
    "            Sum_of_Diag2 = Sum_of_Diag2 + matrix[row][col]\n",
    "        matrix.reverse()\n",
    "    print(\"\\nSum of Row-\",row,\" : \",Sum_of_Rows,sep='')\n",
    "    Sum_of_Rows = 0\n",
    "    print(\"\\nSum of Col-\",num,\" : \",Sum_of_Col,sep='')\n",
    "    Sum_of_Col = 0\n",
    "        \n",
    "\n",
    "print(\"\\nSum of Diag-1 : \",Sum_of_Diag1)\n",
    "print(\"\\nSum of Diag-2 : \",Sum_of_Diag2)\n"
   ]
  },
  {
   "cell_type": "code",
   "execution_count": null,
   "metadata": {},
   "outputs": [],
   "source": []
  }
 ],
 "metadata": {
  "kernelspec": {
   "display_name": "Python 3",
   "language": "python",
   "name": "python3"
  },
  "language_info": {
   "codemirror_mode": {
    "name": "ipython",
    "version": 3
   },
   "file_extension": ".py",
   "mimetype": "text/x-python",
   "name": "python",
   "nbconvert_exporter": "python",
   "pygments_lexer": "ipython3",
   "version": "3.7.0"
  }
 },
 "nbformat": 4,
 "nbformat_minor": 2
}
