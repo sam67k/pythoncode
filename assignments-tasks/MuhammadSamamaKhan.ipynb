{
 "cells": [
  {
   "cell_type": "code",
   "execution_count": 5,
   "metadata": {},
   "outputs": [
    {
     "name": "stdout",
     "output_type": "stream",
     "text": [
      "Enter Value of X1 : 5\n",
      "Enter Value of Y1 : 5\n",
      "Enter Value of X2 : 5\n",
      "Enter Value of Y2 : 55\n",
      "\n",
      "\n",
      "\n",
      "\n",
      "----------------------------------------------------------------------\n",
      "\tCoordinates 0f Point 1                :\t p1( 5 ,  5 )\n",
      "\tCoordinates 0f Point 1                :\t p1( 5 ,  55 )\n",
      "\tDistance between Point 1 and Point 2  :\t 50.0\n",
      "----------------------------------------------------------------------\n"
     ]
    }
   ],
   "source": [
    "x1 = int(input(\"Enter Value of X1 : \"))\n",
    "y1 = int(input(\"Enter Value of Y1 : \"))\n",
    "\n",
    "x2 = int(input(\"Enter Value of X2 : \"))\n",
    "y2 = int(input(\"Enter Value of Y2 : \"))\n",
    "\n",
    "p1 = x2 - x1\n",
    "p2 = y2 - y1\n",
    "\n",
    "d = ((p1**2) + (p2**2))**(1/2)\n",
    "\n",
    "print(\"\\n\\n\\n\")\n",
    "print(\"-\"*70)\n",
    "print(\"\\tCoordinates 0f Point 1                :\\t p1(\",x1,\", \",y1,\")\")\n",
    "print(\"\\tCoordinates 0f Point 1                :\\t p1(\",x2,\", \",y2,\")\")\n",
    "print(\"\\tDistance between Point 1 and Point 2  :\\t\",d)\n",
    "print(\"-\"*70)"
   ]
  },
  {
   "cell_type": "code",
   "execution_count": null,
   "metadata": {},
   "outputs": [],
   "source": []
  }
 ],
 "metadata": {
  "kernelspec": {
   "display_name": "Python 3",
   "language": "python",
   "name": "python3"
  },
  "language_info": {
   "codemirror_mode": {
    "name": "ipython",
    "version": 3
   },
   "file_extension": ".py",
   "mimetype": "text/x-python",
   "name": "python",
   "nbconvert_exporter": "python",
   "pygments_lexer": "ipython3",
   "version": "3.6.5"
  }
 },
 "nbformat": 4,
 "nbformat_minor": 2
}
