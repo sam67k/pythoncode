{
 "cells": [
  {
   "cell_type": "code",
   "execution_count": 30,
   "metadata": {},
   "outputs": [
    {
     "name": "stdout",
     "output_type": "stream",
     "text": [
      "Enter Size : 3\n",
      "\n",
      "Inputs for List 1 : \n",
      "Number : 1\n",
      "Number : 1\n",
      "Number : 1\n",
      "\n",
      "Inputs for List 2 : \n",
      "Number : 2\n",
      "Number : 2\n",
      "Number : 2\n",
      "List 1 :  ['1', '1', '1']\n",
      "List 2 :  ['2', '2', '2']\n",
      "['1', '2', '1', '2', '1', '2']\n"
     ]
    }
   ],
   "source": [
    "def Merger( L1 , L2 ):\n",
    "    ML = [0]*(len(L1))*2\n",
    "    j = 0\n",
    "    i = 0\n",
    "    for k in range(len(ML)):\n",
    "        if(k%2 == 0):\n",
    "            ML[k] = L1[i]\n",
    "            i += 1\n",
    "        elif(k%2 != 0):\n",
    "            ML[k] = L2[j]\n",
    "            j += 1\n",
    "    return ML\n",
    "            \n",
    "\n",
    "size = int(input(\"Enter Size : \"))\n",
    "\n",
    "list1 = [0]*size\n",
    "list2 = [0]*size\n",
    "\n",
    "print(\"\\nInputs for List 1 : \")\n",
    "for i in range(size):\n",
    "    list1[i] = input(\"Number : \")\n",
    "\n",
    "print(\"\\nInputs for List 2 : \")\n",
    "for i in range(size):\n",
    "    list2[i] = input(\"Number : \")\n",
    "        \n",
    "print(\"List 1 : \", list1)\n",
    "print(\"List 2 : \", list2)\n",
    "\n",
    "mlist = Merger( list1, list2)\n",
    "print(mlist)"
   ]
  },
  {
   "cell_type": "code",
   "execution_count": 12,
   "metadata": {},
   "outputs": [
    {
     "name": "stdout",
     "output_type": "stream",
     "text": [
      "1 1 1 0 0 1 1 0 0 1 "
     ]
    }
   ],
   "source": [
    "from random import randint\n",
    "\n",
    "for i in range(10):\n",
    "    x = randint(0,1)\n",
    "    print(x,end=\" \")"
   ]
  },
  {
   "cell_type": "code",
   "execution_count": 24,
   "metadata": {},
   "outputs": [
    {
     "name": "stdout",
     "output_type": "stream",
     "text": [
      "[0, 0, 1, 0, 0, 1, 0, 1, 1, 0]\n"
     ]
    }
   ],
   "source": [
    "from random import randint\n",
    " \n",
    "lst = [0]*10\n",
    "    \n",
    "for i in range(10):\n",
    "    lst[i] = randint(0,1)\n",
    "print(lst)\n"
   ]
  },
  {
   "cell_type": "code",
   "execution_count": null,
   "metadata": {},
   "outputs": [],
   "source": []
  }
 ],
 "metadata": {
  "kernelspec": {
   "display_name": "Python 3",
   "language": "python",
   "name": "python3"
  },
  "language_info": {
   "codemirror_mode": {
    "name": "ipython",
    "version": 3
   },
   "file_extension": ".py",
   "mimetype": "text/x-python",
   "name": "python",
   "nbconvert_exporter": "python",
   "pygments_lexer": "ipython3",
   "version": "3.6.5"
  }
 },
 "nbformat": 4,
 "nbformat_minor": 2
}
