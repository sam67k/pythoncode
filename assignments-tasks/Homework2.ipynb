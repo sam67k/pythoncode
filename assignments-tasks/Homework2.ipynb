{
 "cells": [
  {
   "cell_type": "code",
   "execution_count": 7,
   "metadata": {},
   "outputs": [
    {
     "name": "stdout",
     "output_type": "stream",
     "text": [
      "Enter the Temperature in Celsius : 0\n",
      "\n",
      "\n",
      "\n",
      "----------------------------------------------------------------------\n",
      "  Given Temperature in Celsius ( 0.0 °) in Fahrenheit is 32.0 °\n",
      "----------------------------------------------------------------------\n"
     ]
    }
   ],
   "source": [
    "def Celsius_To_Fahrenheit():\n",
    "    c = float(input(\"Enter the Temperature in Celsius : \"))\n",
    "    f = ((c)*(9/5))+32\n",
    "    print(\"\\n\\n\")\n",
    "    print(\"-\"*70)\n",
    "    print(\"  Given Temperature in Celsius (\",c,\"°) in Fahrenheit is\",f,\"°\")\n",
    "    print(\"-\"*70)\n",
    "\n",
    "Celsius_To_Fahrenheit()\n"
   ]
  },
  {
   "cell_type": "code",
   "execution_count": 8,
   "metadata": {},
   "outputs": [
    {
     "name": "stdout",
     "output_type": "stream",
     "text": [
      "Enter the Temperature in Fahrenheit : 32\n",
      "\n",
      "\n",
      "\n",
      "----------------------------------------------------------------------\n",
      "  Given Temperature in Fahrenheit ( 32.0 °) in Celsius is 0.0 °\n",
      "----------------------------------------------------------------------\n"
     ]
    }
   ],
   "source": [
    "def FahrenheitToCelsius():\n",
    "    f = float(input(\"Enter the Temperature in Fahrenheit : \"))\n",
    "    c = ((f-32)*(5/9))\n",
    "    print(\"\\n\\n\")\n",
    "    print(\"-\"*70)\n",
    "    print(\"  Given Temperature in Fahrenheit (\",f,\"°) in Celsius is\",c,\"°\")\n",
    "    print(\"-\"*70)\n",
    "    \n",
    "FahrenheitToCelsius()\n"
   ]
  },
  {
   "cell_type": "code",
   "execution_count": null,
   "metadata": {},
   "outputs": [],
   "source": []
  }
 ],
 "metadata": {
  "kernelspec": {
   "display_name": "Python 3",
   "language": "python",
   "name": "python3"
  },
  "language_info": {
   "codemirror_mode": {
    "name": "ipython",
    "version": 3
   },
   "file_extension": ".py",
   "mimetype": "text/x-python",
   "name": "python",
   "nbconvert_exporter": "python",
   "pygments_lexer": "ipython3",
   "version": "3.6.5"
  }
 },
 "nbformat": 4,
 "nbformat_minor": 2
}
