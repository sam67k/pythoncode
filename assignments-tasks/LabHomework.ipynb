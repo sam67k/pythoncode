{
 "cells": [
  {
   "cell_type": "code",
   "execution_count": 4,
   "metadata": {},
   "outputs": [
    {
     "name": "stdout",
     "output_type": "stream",
     "text": [
      "****************************************\n",
      "   Salary Calculation for Employee=1\n",
      "****************************************\n",
      "  Enter Basic Salary      :  89\n",
      "  Enter Overtime(Hours)   :  77\n",
      "  Enter rate per Hour     :  44\n",
      "  Your Home Take Salary   :  3477.0\n",
      "\n",
      "\n",
      "\n",
      "****************************************\n",
      "   Salary Calculation for Employee=8\n",
      "****************************************\n",
      "  Enter Basic Salary      :  88\n",
      "  Enter Overtime(Hours)   :  99\n",
      "  Enter rate per Hour     :  9\n",
      "  Your Home Take Salary   :  979.0\n",
      "\n",
      "\n",
      "\n"
     ]
    }
   ],
   "source": [
    "def salary():\n",
    "    print(\"*\"*40)\n",
    "    int(input(\"   Salary Calculation for Employee=\")),\n",
    "    print(\"*\"*40)\n",
    "    BasicSalary = int(input(\"  Enter Basic Salary      :  \"))\n",
    "    OvertimeHours = int(input(\"  Enter Overtime(Hours)   :  \"))\n",
    "    Rate = float(input(\"  Enter rate per Hour     :  \"))\n",
    "    salary = ((OvertimeHours) * Rate) + BasicSalary\n",
    "    print(\"  Your Home Take Salary   : \",salary)\n",
    "    print(\"\\n\\n\")\n",
    "    return\n",
    "    \n",
    "\n",
    "salary()\n",
    "salary()"
   ]
  },
  {
   "cell_type": "code",
   "execution_count": 48,
   "metadata": {},
   "outputs": [
    {
     "name": "stdout",
     "output_type": "stream",
     "text": [
      "X1 : 5\n",
      "X2 : 5\n",
      "Y1 : 5\n",
      "Y2 : 5\n",
      "Mid Point of (Point 1) p1( 5 , 5 ) and (Point 2) p2( 5 , 5 ) is  (5.0, 5.0)\n"
     ]
    }
   ],
   "source": [
    "def MidPoint():\n",
    "    x1 = int(input(\"X1 : \"))\n",
    "    x2 = int(input(\"X2 : \"))\n",
    "    y1 = int(input(\"Y1 : \"))\n",
    "    y2 = int(input(\"Y2 : \"))\n",
    "    result = ((( x1 + x2 ) / 2 ),(( y1 + y2 ) / 2 ))\n",
    "    return result\n",
    "\n",
    "print(\"Mid Point of (Point 1) p1(\",x1,\",\",y1,\") and (Point 2) p2(\",x2,\",\",y2,\") is \",MidPoint())"
   ]
  }
 ],
 "metadata": {
  "kernelspec": {
   "display_name": "Python 3",
   "language": "python",
   "name": "python3"
  },
  "language_info": {
   "codemirror_mode": {
    "name": "ipython",
    "version": 3
   },
   "file_extension": ".py",
   "mimetype": "text/x-python",
   "name": "python",
   "nbconvert_exporter": "python",
   "pygments_lexer": "ipython3",
   "version": "3.6.5"
  }
 },
 "nbformat": 4,
 "nbformat_minor": 2
}
