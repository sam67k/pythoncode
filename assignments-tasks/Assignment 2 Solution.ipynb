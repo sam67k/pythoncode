{
 "cells": [
  {
   "cell_type": "code",
   "execution_count": 1,
   "metadata": {},
   "outputs": [
    {
     "name": "stderr",
     "output_type": "stream",
     "text": [
      "C:\\Users\\Samama_2\\Anaconda3\\lib\\site-packages\\ipykernel\\parentpoller.py:116: UserWarning: Parent poll failed.  If the frontend dies,\n",
      "                the kernel may be left running.  Please let us know\n",
      "                about your system (bitness, Python, etc.) at\n",
      "                ipython-dev@scipy.org\n",
      "  ipython-dev@scipy.org\"\"\")\n"
     ]
    },
    {
     "name": "stdout",
     "output_type": "stream",
     "text": [
      "Enter Programming Marks  :\t 90\n",
      "Enter Calculus Marks     :\t 80\n",
      "Enter ITC Marks          :\t 85\n",
      "Enter English Marks      :\t 70\n",
      "Enter Physics Marks      :\t 80\n",
      "Your Grade For the Respective Subject is : A\n",
      "Your Grade For the Respective Subject is : B+\n",
      "Your Grade For the Respective Subject is : B+\n",
      "Your Grade For the Respective Subject is : C+\n",
      "Your Grade For the Respective Subject is : B+\n"
     ]
    }
   ],
   "source": [
    "def dmc():\n",
    "    prog = int(input(\"Enter Programming Marks  :\\t \"))\n",
    "    calc = int(input(\"Enter Calculus Marks     :\\t \"))\n",
    "    itc = int(input(\"Enter ITC Marks          :\\t \"))\n",
    "    eng = int(input(\"Enter English Marks      :\\t \"))\n",
    "    phy = int(input(\"Enter Physics Marks      :\\t \"))\n",
    "    for m in (prog, calc, itc, eng, phy):\n",
    "        print(\"Your Grade For the Respective Subject is : \", end='')\n",
    "        if m > 100 or m < 0:\n",
    "            print(\"Error in Entering Marks\")\n",
    "        elif m >= 91:\n",
    "            print(\"A+\")\n",
    "        elif m >= 87:\n",
    "            print(\"A\")\n",
    "        elif m >= 80:\n",
    "            print(\"B+\")\n",
    "        elif m >= 72:\n",
    "            print(\"B\")\n",
    "        elif m >= 66:\n",
    "            print(\"C+\")\n",
    "        elif m >= 60:\n",
    "            print(\"C\")\n",
    "        else:\n",
    "            print(\"F\")\n",
    "    \n",
    "dmc()"
   ]
  },
  {
   "cell_type": "code",
   "execution_count": 3,
   "metadata": {},
   "outputs": [
    {
     "name": "stdout",
     "output_type": "stream",
     "text": [
      "Subject 1 | 87 | 4.0 | A\n",
      "Subject 2 | 72 | 3.0 | B\n",
      "Subject 3 | 72 | 3.0 | B\n",
      "Subject 4 | 66 | 2.5 | C+\n",
      "Subject 5 | 87 | 4.0 | A\n"
     ]
    }
   ],
   "source": [
    "def marks_to_grade(marks):\n",
    "    if marks > 100 or marks < 0:\n",
    "        return \"Error in Entering Marks\"\n",
    "    if marks >= 91:\n",
    "        return \"A+\"\n",
    "    elif marks >= 87:\n",
    "        return \"A\"\n",
    "    elif marks >= 80:\n",
    "        return \"B+\"\n",
    "    elif marks >= 72:\n",
    "        return \"B\"\n",
    "    elif marks >= 66:\n",
    "        return \"C+\"\n",
    "    elif marks >= 60:\n",
    "        return \"C\"\n",
    "    else:\n",
    "        return \"F\"\n",
    "    \n",
    "def marks_to_gpa(marks):\n",
    "    if marks > 100 or marks < 0:\n",
    "        return -1\n",
    "    if marks >= 91:\n",
    "        return 4.0\n",
    "    elif marks >= 87:\n",
    "        return 4.0\n",
    "    elif marks >= 80:\n",
    "        return 3.5\n",
    "    elif marks >= 72:\n",
    "        return 3.0\n",
    "    elif marks >= 66:\n",
    "        return 2.5\n",
    "    elif marks >= 60:\n",
    "        return 2.0\n",
    "    else:\n",
    "        return 0\n",
    "    \n",
    "sub1, sub2, sub3, sub4, sub5 = 87, 72, 72, 66, 87\n",
    "\n",
    "index = 1\n",
    "\n",
    "for marks in sub1, sub2, sub3, sub4, sub5:\n",
    "    print(\"Subject\",index,\"|\",marks,\"|\",marks_to_gpa(marks),\"|\",marks_to_grade(marks))\n",
    "    #print(\"Subject%d | %d | %s | %s \" % (index, marks, marks_to_gpa(marks), marks_to_grade(marks)))\n",
    "    index = index + 1"
   ]
  },
  {
   "cell_type": "code",
   "execution_count": null,
   "metadata": {},
   "outputs": [],
   "source": []
  }
 ],
 "metadata": {
  "kernelspec": {
   "display_name": "Python 3",
   "language": "python",
   "name": "python3"
  },
  "language_info": {
   "codemirror_mode": {
    "name": "ipython",
    "version": 3
   },
   "file_extension": ".py",
   "mimetype": "text/x-python",
   "name": "python",
   "nbconvert_exporter": "python",
   "pygments_lexer": "ipython3",
   "version": "3.7.0"
  }
 },
 "nbformat": 4,
 "nbformat_minor": 2
}
