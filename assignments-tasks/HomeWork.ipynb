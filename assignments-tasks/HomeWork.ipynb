{
 "cells": [
  {
   "cell_type": "code",
   "execution_count": 9,
   "metadata": {},
   "outputs": [
    {
     "name": "stdout",
     "output_type": "stream",
     "text": [
      "Enter the Temperature in Celsius : 40\n",
      "\n",
      "\n",
      "\n",
      "\n",
      "\n",
      "\n",
      "Temperature in Celsius (°C)       :\t 40.0 °\n",
      "Temperature in Farhrenheit (°F)   :\t 104.0 °\n",
      "Temperature in Kelvin (K)         :\t 313.0\n",
      "\n",
      "\n",
      "\n",
      "\n",
      "\n",
      "|...................................................................................................|\n",
      "|                                \"Your given Temperature in all Units\"                              |\n",
      "|___________________________________________________________________________________________________|\n",
      "|\t\t \"°C\"\t\t  |\t\t\"°F\"\t\t    |\t\t\"K\"\t\t    |\n",
      "|---------------------------------------------------------------------------------------------------|\n",
      "\n",
      "                 40.0 °                         104.0 °                        313.0\n",
      "|___________________________________________________________________________________________________|\n",
      "|...................................................................................................|\n",
      "\n",
      "#####################################################################################################\n",
      "\n",
      "                          \"Thanks for using my Software  ( @sam67k | @k67sam )\"\n"
     ]
    }
   ],
   "source": [
    "c = float(input(\"Enter the Temperature in Celsius : \"))\n",
    "f = (c) * (9/5) + 32\n",
    "k = c + 273\n",
    "print(\"\\n\\n\\n\\n\\n\")\n",
    "print(\"Temperature in Celsius (°C)       :\\t\",c,\"°\")\n",
    "print(\"Temperature in Farhrenheit (°F)   :\\t\",f,\"°\")\n",
    "print(\"Temperature in Kelvin (K)         :\\t\",k)\n",
    "print(\"\\n\\n\\n\\n\")\n",
    "print(\"|...................................................................................................|\")\n",
    "print(\"|                                \\\"Your given Temperature in all Units\\\"                              |\")\n",
    "print(\"|___________________________________________________________________________________________________|\")\n",
    "print(\"|\\t\\t \\\"°C\\\"\\t\\t  |\\t\\t\\\"°F\\\"\\t\\t    |\\t\\t\\\"K\\\"\\t\\t    |\")\n",
    "print(\"|---------------------------------------------------------------------------------------------------|\\n\")\n",
    "print(\"                \",c,\"°                        \",f,\"°                       \",k,)\n",
    "print(\"|___________________________________________________________________________________________________|\")\n",
    "print(\"|...................................................................................................|\")\n",
    "print(\"\\n#####################################################################################################\")\n",
    "print(\"\\n                          \\\"Thanks for using my Software  ( @sam67k | @k67sam )\\\"\")"
   ]
  },
  {
   "cell_type": "code",
   "execution_count": null,
   "metadata": {},
   "outputs": [],
   "source": []
  }
 ],
 "metadata": {
  "kernelspec": {
   "display_name": "Python 3",
   "language": "python",
   "name": "python3"
  },
  "language_info": {
   "codemirror_mode": {
    "name": "ipython",
    "version": 3
   },
   "file_extension": ".py",
   "mimetype": "text/x-python",
   "name": "python",
   "nbconvert_exporter": "python",
   "pygments_lexer": "ipython3",
   "version": "3.6.5"
  }
 },
 "nbformat": 4,
 "nbformat_minor": 2
}
