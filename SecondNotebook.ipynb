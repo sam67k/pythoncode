{
 "cells": [
  {
   "cell_type": "code",
   "execution_count": 6,
   "metadata": {},
   "outputs": [
    {
     "name": "stdout",
     "output_type": "stream",
     "text": [
      "Student-1 Details\n",
      "Enter Marks : 500\n",
      "You got  500 With Percentage  45.45454545454545 %\n"
     ]
    }
   ],
   "source": [
    "def stdCalculation():\n",
    "    marks = int(input(\"Enter Marks : \"))\n",
    "    per = (marks/1100)*100\n",
    "    print(\"You got \", marks, \"With Percentage \", per,\"%\")\n",
    "    \n",
    "print(\"Student-1 Details\")\n",
    "stdCalculation()\n"
   ]
  },
  {
   "cell_type": "code",
   "execution_count": null,
   "metadata": {},
   "outputs": [],
   "source": []
  }
 ],
 "metadata": {
  "kernelspec": {
   "display_name": "Python 3",
   "language": "python",
   "name": "python3"
  },
  "language_info": {
   "codemirror_mode": {
    "name": "ipython",
    "version": 3
   },
   "file_extension": ".py",
   "mimetype": "text/x-python",
   "name": "python",
   "nbconvert_exporter": "python",
   "pygments_lexer": "ipython3",
   "version": "3.6.5"
  }
 },
 "nbformat": 4,
 "nbformat_minor": 2
}
