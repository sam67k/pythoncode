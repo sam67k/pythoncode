{
 "cells": [
  {
   "cell_type": "code",
   "execution_count": 26,
   "metadata": {},
   "outputs": [
    {
     "name": "stdout",
     "output_type": "stream",
     "text": [
      "Enter Programming Marks  :\t 91\n",
      "Enter Calculus Marks     :\t 91\n",
      "Enter ITC Marks          :\t 91\n",
      "Enter English Marks      :\t 91\n",
      "Enter Physics Marks      :\t 91\n",
      "\n",
      "\n"
     ]
    },
    {
     "data": {
      "text/plain": [
       "'A+'"
      ]
     },
     "execution_count": 26,
     "metadata": {},
     "output_type": "execute_result"
    }
   ],
   "source": [
    "def dmc():\n",
    "    prog = int(input(\"Enter Programming Marks  :\\t \"))\n",
    "    calc = int(input(\"Enter Calculus Marks     :\\t \"))\n",
    "    itc = int(input(\"Enter ITC Marks          :\\t \"))\n",
    "    eng = int(input(\"Enter English Marks      :\\t \"))\n",
    "    phy = int(input(\"Enter Physics Marks      :\\t \"))\n",
    "    total = int( prog + calc + itc + eng + phy )\n",
    "    percentage = ((total/500)*100)\n",
    "    print(\"\\n\")\n",
    "    if percentage > 100 or percentage < 0:\n",
    "        return \"Error in Entering Marks\"\n",
    "    if percentage >= 91:\n",
    "        return \"A+\"\n",
    "    elif percentage >= 87:\n",
    "        return \"A\"\n",
    "    elif percentage >= 80:\n",
    "        return\"B+\"\n",
    "    elif percentage >= 72:\n",
    "        return \"B\"\n",
    "    elif percentage >= 66:\n",
    "        return \"C+\"\n",
    "    elif percentage >= 60:\n",
    "        return \"C\"\n",
    "    else:\n",
    "        return \"F\"\n",
    "\n",
    "dmc()"
   ]
  },
  {
   "cell_type": "code",
   "execution_count": null,
   "metadata": {},
   "outputs": [],
   "source": []
  }
 ],
 "metadata": {
  "kernelspec": {
   "display_name": "Python 3",
   "language": "python",
   "name": "python3"
  },
  "language_info": {
   "codemirror_mode": {
    "name": "ipython",
    "version": 3
   },
   "file_extension": ".py",
   "mimetype": "text/x-python",
   "name": "python",
   "nbconvert_exporter": "python",
   "pygments_lexer": "ipython3",
   "version": "3.7.0"
  }
 },
 "nbformat": 4,
 "nbformat_minor": 2
}
